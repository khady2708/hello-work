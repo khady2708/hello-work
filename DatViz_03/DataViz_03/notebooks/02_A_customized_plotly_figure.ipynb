{
 "cells": [
  {
   "cell_type": "code",
   "execution_count": 3,
   "id": "5445e425",
   "metadata": {},
   "outputs": [],
   "source": [
    "# Import standard libraries\n",
    "import matplotlib.pyplot as plt\n",
    "import pandas as pd\n",
    "import os"
   ]
  },
  {
   "cell_type": "markdown",
   "id": "f7ac4137",
   "metadata": {},
   "source": [
    "# Telling a story\n",
    "\n",
    "You want to create a figure that answers a _single_ question, for example:\n",
    "\n",
    "<H4>\n",
    "    <font color='orange'><b> --> How does the national energy consumption evolve with the change in temperature? </b></font>\n",
    "</H4>\n",
    "\n",
    "You should also determine who will be your audience (to the best of your knowledge):\n",
    "\n",
    "<H4>\n",
    "    <font color='orange'><b> My audience: A public of non experts </b></font>\n",
    "</H4>"
   ]
  },
  {
   "cell_type": "markdown",
   "id": "5a3b4ec1-885f-45e3-8e3e-3f82f4499cb1",
   "metadata": {},
   "source": [
    "Now that these two aspects are clearly stated, let's go throuh the process of answering our question with a nice Figure!  \n",
    "But first we need data!"
   ]
  },
  {
   "cell_type": "markdown",
   "id": "55b19c25",
   "metadata": {},
   "source": [
    "## Import the data"
   ]
  },
  {
   "cell_type": "markdown",
   "id": "eb76089d",
   "metadata": {},
   "source": [
    "Download the \"Pickles\" folder from google drive (*.../Modules/DataViz/DataViz3/Pickles)* and unzip its content in a new folder. There should be a total of 4 pickles in the folder:"
   ]
  },
  {
   "cell_type": "code",
   "execution_count": 4,
   "id": "b4b460b2",
   "metadata": {},
   "outputs": [
    {
     "name": "stdout",
     "output_type": "stream",
     "text": [
      "Requirement already satisfied: missingno in /home/khady.thiam@Digital-Grenoble.local/anaconda3/lib/python3.11/site-packages (0.5.2)\n",
      "Requirement already satisfied: numpy in /home/khady.thiam@Digital-Grenoble.local/anaconda3/lib/python3.11/site-packages (from missingno) (1.26.4)\n",
      "Requirement already satisfied: matplotlib in /home/khady.thiam@Digital-Grenoble.local/anaconda3/lib/python3.11/site-packages (from missingno) (3.8.0)\n",
      "Requirement already satisfied: scipy in /home/khady.thiam@Digital-Grenoble.local/anaconda3/lib/python3.11/site-packages (from missingno) (1.11.4)\n",
      "Requirement already satisfied: seaborn in /home/khady.thiam@Digital-Grenoble.local/anaconda3/lib/python3.11/site-packages (from missingno) (0.12.2)\n",
      "Requirement already satisfied: contourpy>=1.0.1 in /home/khady.thiam@Digital-Grenoble.local/anaconda3/lib/python3.11/site-packages (from matplotlib->missingno) (1.2.0)\n",
      "Requirement already satisfied: cycler>=0.10 in /home/khady.thiam@Digital-Grenoble.local/anaconda3/lib/python3.11/site-packages (from matplotlib->missingno) (0.11.0)\n",
      "Requirement already satisfied: fonttools>=4.22.0 in /home/khady.thiam@Digital-Grenoble.local/anaconda3/lib/python3.11/site-packages (from matplotlib->missingno) (4.25.0)\n",
      "Requirement already satisfied: kiwisolver>=1.0.1 in /home/khady.thiam@Digital-Grenoble.local/anaconda3/lib/python3.11/site-packages (from matplotlib->missingno) (1.4.4)\n",
      "Requirement already satisfied: packaging>=20.0 in /home/khady.thiam@Digital-Grenoble.local/anaconda3/lib/python3.11/site-packages (from matplotlib->missingno) (23.1)\n",
      "Requirement already satisfied: pillow>=6.2.0 in /home/khady.thiam@Digital-Grenoble.local/anaconda3/lib/python3.11/site-packages (from matplotlib->missingno) (10.2.0)\n",
      "Requirement already satisfied: pyparsing>=2.3.1 in /home/khady.thiam@Digital-Grenoble.local/anaconda3/lib/python3.11/site-packages (from matplotlib->missingno) (3.0.9)\n",
      "Requirement already satisfied: python-dateutil>=2.7 in /home/khady.thiam@Digital-Grenoble.local/anaconda3/lib/python3.11/site-packages (from matplotlib->missingno) (2.8.2)\n",
      "Requirement already satisfied: pandas>=0.25 in /home/khady.thiam@Digital-Grenoble.local/anaconda3/lib/python3.11/site-packages (from seaborn->missingno) (2.1.4)\n",
      "Requirement already satisfied: pytz>=2020.1 in /home/khady.thiam@Digital-Grenoble.local/anaconda3/lib/python3.11/site-packages (from pandas>=0.25->seaborn->missingno) (2023.3.post1)\n",
      "Requirement already satisfied: tzdata>=2022.1 in /home/khady.thiam@Digital-Grenoble.local/anaconda3/lib/python3.11/site-packages (from pandas>=0.25->seaborn->missingno) (2023.3)\n",
      "Requirement already satisfied: six>=1.5 in /home/khady.thiam@Digital-Grenoble.local/anaconda3/lib/python3.11/site-packages (from python-dateutil>=2.7->matplotlib->missingno) (1.16.0)\n"
     ]
    }
   ],
   "source": [
    "path_to_pickles = '../data/Pickles'\n",
    "os.path.join(path_to_pickles)\n",
    "os.listdir(path_to_pickles)\n",
    "!pip install missingno"
   ]
  },
  {
   "cell_type": "code",
   "execution_count": 5,
   "id": "e52928ae-6878-402a-887a-1940dd1dd44b",
   "metadata": {
    "jupyter": {
     "source_hidden": true
    }
   },
   "outputs": [
    {
     "name": "stdout",
     "output_type": "stream",
     "text": [
      "DataFrame 1:\n",
      "                     Consommation  Fioul  Charbon     Gaz  Nucléaire  Eolien  \\\n",
      "DateTime                                                                       \n",
      "2012-01-01 00:00:00       58315.0  492.0     25.0  3816.0    52697.0  3588.0   \n",
      "2012-01-01 00:15:00           NaN    NaN      NaN     NaN        NaN     NaN   \n",
      "2012-01-01 00:30:00       58315.0  492.0     25.0  3816.0    52697.0  3588.0   \n",
      "2012-01-01 00:45:00           NaN    NaN      NaN     NaN        NaN     NaN   \n",
      "2012-01-01 01:00:00       56231.0  492.0     25.0  3834.0    51747.0  3536.0   \n",
      "\n",
      "                     Solaire  Hydraulique  Pompage  Bioénergies  \\\n",
      "DateTime                                                          \n",
      "2012-01-01 00:00:00      0.0       7922.0  -1139.0        719.0   \n",
      "2012-01-01 00:15:00      NaN          NaN      NaN          NaN   \n",
      "2012-01-01 00:30:00      0.0       7922.0  -1139.0        719.0   \n",
      "2012-01-01 00:45:00      NaN          NaN      NaN          NaN   \n",
      "2012-01-01 01:00:00      0.0       7598.0  -1730.0        721.0   \n",
      "\n",
      "                     Ech. physiques  \n",
      "DateTime                             \n",
      "2012-01-01 00:00:00         -9806.0  \n",
      "2012-01-01 00:15:00             NaN  \n",
      "2012-01-01 00:30:00         -9806.0  \n",
      "2012-01-01 00:45:00             NaN  \n",
      "2012-01-01 01:00:00         -9993.0  \n",
      "\n",
      "\n"
     ]
    }
   ],
   "source": [
    "\n",
    "# Spécifiez le chemin vers le dossier contenant les fichiers pickle décompressés\n",
    "path_to_pickles = '../data/Pickles'\n",
    "\n",
    "# Liste des fichiers pickle attendus\n",
    "pickle_files = ['df_data_nationales.pkl']\n",
    "\n",
    "\n",
    "# Charger les fichiers pickle dans des dataframes pandas\n",
    "dataframes = []\n",
    "for file in pickle_files:\n",
    "    file_path = os.path.join(path_to_pickles, file)\n",
    "    df = pd.read_pickle(file_path)\n",
    "    dataframes.append(df)\n",
    "\n",
    "# Afficher les premières lignes de chaque dataframe pour vérifier l'importation\n",
    "for i, df in enumerate(dataframes):\n",
    "    print(f\"DataFrame {i+1}:\")\n",
    "    print(df.head())\n",
    "    print(\"\\n\")"
   ]
  },
  {
   "cell_type": "code",
   "execution_count": 6,
   "id": "eca7b84a-080e-4358-ae1d-51377a854adf",
   "metadata": {
    "scrolled": true
   },
   "outputs": [
    {
     "name": "stdout",
     "output_type": "stream",
     "text": [
      "DataFrame 1:\n",
      "                     Consommation  Fioul  Charbon     Gaz  Nucléaire  Eolien  \\\n",
      "DateTime                                                                       \n",
      "2012-01-01 00:00:00       58315.0  492.0     25.0  3816.0    52697.0  3588.0   \n",
      "2012-01-01 00:15:00           NaN    NaN      NaN     NaN        NaN     NaN   \n",
      "2012-01-01 00:30:00       58315.0  492.0     25.0  3816.0    52697.0  3588.0   \n",
      "2012-01-01 00:45:00           NaN    NaN      NaN     NaN        NaN     NaN   \n",
      "2012-01-01 01:00:00       56231.0  492.0     25.0  3834.0    51747.0  3536.0   \n",
      "\n",
      "                     Solaire  Hydraulique  Pompage  Bioénergies  \\\n",
      "DateTime                                                          \n",
      "2012-01-01 00:00:00      0.0       7922.0  -1139.0        719.0   \n",
      "2012-01-01 00:15:00      NaN          NaN      NaN          NaN   \n",
      "2012-01-01 00:30:00      0.0       7922.0  -1139.0        719.0   \n",
      "2012-01-01 00:45:00      NaN          NaN      NaN          NaN   \n",
      "2012-01-01 01:00:00      0.0       7598.0  -1730.0        721.0   \n",
      "\n",
      "                     Ech. physiques  \n",
      "DateTime                             \n",
      "2012-01-01 00:00:00         -9806.0  \n",
      "2012-01-01 00:15:00             NaN  \n",
      "2012-01-01 00:30:00         -9806.0  \n",
      "2012-01-01 00:45:00             NaN  \n",
      "2012-01-01 01:00:00         -9993.0  \n",
      "\n",
      "\n",
      "DataFrame 2:\n",
      "Périmètre            Auvergne-Rhône-Alpes  Bourgogne-Franche-Comté  Bretagne  \\\n",
      "DateTime                                                                       \n",
      "2013-01-01 00:30:00              0.719888                 0.588889  0.136829   \n",
      "2013-01-01 01:00:00              0.719888                 0.583333  0.143223   \n",
      "2013-01-01 01:30:00              0.691877                 0.577778  0.159847   \n",
      "2013-01-01 02:00:00              0.683473                 0.572222  0.177749   \n",
      "2013-01-01 02:30:00              0.686275                 0.555556  0.200767   \n",
      "\n",
      "Périmètre            Centre-Val de Loire  Grand-Est  Hauts-de-France  \\\n",
      "DateTime                                                               \n",
      "2013-01-01 00:30:00             0.650448   0.551193         0.662901   \n",
      "2013-01-01 01:00:00             0.656850   0.553678         0.631391   \n",
      "2013-01-01 01:30:00             0.670935   0.579523         0.602854   \n",
      "2013-01-01 02:00:00             0.678617   0.615308         0.565398   \n",
      "2013-01-01 02:30:00             0.687580   0.619781         0.510702   \n",
      "\n",
      "Périmètre            Ile-de-France  Normandie  Nouvelle-Aquitaine  Occitanie  \\\n",
      "DateTime                                                                       \n",
      "2013-01-01 00:30:00       0.842105   0.457627            0.454545   0.418472   \n",
      "2013-01-01 01:00:00       0.842105   0.402542            0.480519   0.376283   \n",
      "2013-01-01 01:30:00       0.789474   0.358051            0.441558   0.326112   \n",
      "2013-01-01 02:00:00       0.789474   0.302966            0.400000   0.269099   \n",
      "2013-01-01 02:30:00       0.842105   0.286017            0.374026   0.255416   \n",
      "\n",
      "Périmètre                PACA  Pays-de-la-Loire  \n",
      "DateTime                                         \n",
      "2013-01-01 00:30:00  0.266667          0.332724  \n",
      "2013-01-01 01:00:00  0.311111          0.252285  \n",
      "2013-01-01 01:30:00  0.400000          0.223035  \n",
      "2013-01-01 02:00:00  0.444444          0.228519  \n",
      "2013-01-01 02:30:00  0.533333          0.232176  \n",
      "\n",
      "\n",
      "DataFrame 3:\n",
      "Périmètre            Auvergne-Rhône-Alpes  Bourgogne-Franche-Comté  Bretagne  \\\n",
      "DateTime                                                                       \n",
      "2013-01-01 00:30:00                   0.0                      0.0       0.0   \n",
      "2013-01-01 01:00:00                   0.0                      0.0       0.0   \n",
      "2013-01-01 01:30:00                   0.0                      0.0       0.0   \n",
      "2013-01-01 02:00:00                   0.0                      0.0       0.0   \n",
      "2013-01-01 02:30:00                   0.0                      0.0       0.0   \n",
      "\n",
      "Périmètre            Centre-Val de Loire  Grand-Est  Hauts-de-France  \\\n",
      "DateTime                                                               \n",
      "2013-01-01 00:30:00                  0.0        0.0              0.0   \n",
      "2013-01-01 01:00:00                  0.0        0.0              0.0   \n",
      "2013-01-01 01:30:00                  0.0        0.0              0.0   \n",
      "2013-01-01 02:00:00                  0.0        0.0              0.0   \n",
      "2013-01-01 02:30:00                  0.0        0.0              0.0   \n",
      "\n",
      "Périmètre            Ile-de-France  Normandie  Nouvelle-Aquitaine  Occitanie  \\\n",
      "DateTime                                                                       \n",
      "2013-01-01 00:30:00            0.0        0.0                 0.0        0.0   \n",
      "2013-01-01 01:00:00            0.0        0.0                 0.0        0.0   \n",
      "2013-01-01 01:30:00            0.0        0.0                 0.0        0.0   \n",
      "2013-01-01 02:00:00            0.0        0.0                 0.0        0.0   \n",
      "2013-01-01 02:30:00            0.0        0.0                 0.0        0.0   \n",
      "\n",
      "Périmètre            PACA  Pays-de-la-Loire  \n",
      "DateTime                                     \n",
      "2013-01-01 00:30:00   0.0               0.0  \n",
      "2013-01-01 01:00:00   0.0               0.0  \n",
      "2013-01-01 01:30:00   0.0               0.0  \n",
      "2013-01-01 02:00:00   0.0               0.0  \n",
      "2013-01-01 02:30:00   0.0               0.0  \n",
      "\n",
      "\n",
      "DataFrame 4:\n",
      "Region               Auvergne-Rhône-Alpes  Bourgogne-Franche-Comté  Bretagne  \\\n",
      "date_validite                                                                  \n",
      "2013-01-01 23:00:00                  5.75                     3.55  6.400000   \n",
      "2013-01-02 00:00:00                  5.30                     2.95  6.366667   \n",
      "2013-01-02 01:00:00                  4.90                     2.35  6.300000   \n",
      "2013-01-02 02:00:00                  4.60                     1.85  5.966667   \n",
      "2013-01-02 03:00:00                  4.30                     1.50  5.833333   \n",
      "\n",
      "Region               Centre-Val de Loire  Grand-Est  Hauts-de-France  \\\n",
      "date_validite                                                          \n",
      "2013-01-01 23:00:00                 3.55       4.78             4.50   \n",
      "2013-01-02 00:00:00                 3.25       4.42             4.60   \n",
      "2013-01-02 01:00:00                 3.10       4.06             4.75   \n",
      "2013-01-02 02:00:00                 3.15       3.74             4.80   \n",
      "2013-01-02 03:00:00                 3.00       3.40             4.90   \n",
      "\n",
      "Region               Ile-de-France  Normandie  Nouvelle-Aquitaine  Occitanie  \\\n",
      "date_validite                                                                  \n",
      "2013-01-01 23:00:00           3.54        4.6                 5.0   5.933333   \n",
      "2013-01-02 00:00:00           3.38        4.8                 5.1   5.600000   \n",
      "2013-01-02 01:00:00           3.34        5.0                 5.3   5.400000   \n",
      "2013-01-02 02:00:00           3.44        5.2                 5.4   5.283333   \n",
      "2013-01-02 03:00:00           3.46        5.3                 5.3   5.316667   \n",
      "\n",
      "Region                PACA  Pays-de-la-Loire  \n",
      "date_validite                                 \n",
      "2013-01-01 23:00:00  6.750              4.45  \n",
      "2013-01-02 00:00:00  6.425              4.10  \n",
      "2013-01-02 01:00:00  6.150              3.95  \n",
      "2013-01-02 02:00:00  5.875              3.90  \n",
      "2013-01-02 03:00:00  5.600              3.75  \n",
      "\n",
      "\n"
     ]
    }
   ],
   "source": [
    "import pandas as pd\n",
    "import os\n",
    "\n",
    "# Spécifiez le chemin vers le dossier contenant les fichiers pickle décompressés\n",
    "path_to_pickles = '../data/Pickles'\n",
    "\n",
    "# Liste des fichiers pickle attendus\n",
    "pickle_files = ['df_data_nationales.pkl', 'df_eolien_norm.pkl', 'df_solaire_norm.pkl', 'df_temperatures.pkl']\n",
    "\n",
    "\n",
    "# Charger les fichiers pickle dans des dataframes pandas\n",
    "dataframes = []\n",
    "for file in pickle_files:\n",
    "    file_path = os.path.join(path_to_pickles, file)\n",
    "    df = pd.read_pickle(file_path)\n",
    "    dataframes.append(df)\n",
    "\n",
    "# Afficher les premières lignes de chaque dataframe pour vérifier l'importation\n",
    "for i, df in enumerate(dataframes):\n",
    "    print(f\"DataFrame {i+1}:\")\n",
    "    print(df.head())\n",
    "    print(\"\\n\")"
   ]
  },
  {
   "cell_type": "markdown",
   "id": "318a68d6",
   "metadata": {},
   "source": [
    "Import the relevant pickles into pandas dataframes:"
   ]
  },
  {
   "cell_type": "code",
   "execution_count": null,
   "id": "1992b914-2aab-4b54-a44a-68dd9e6cad38",
   "metadata": {},
   "outputs": [],
   "source": []
  },
  {
   "cell_type": "code",
   "execution_count": 7,
   "id": "59ef57f6",
   "metadata": {},
   "outputs": [],
   "source": [
    "#TODO\n",
    "df_data_nationales = pd.read_pickle(os.path.join(path_to_pickles, 'df_data_nationales.pkl'))\n",
    "df_eolien_norm     = pd.read_pickle(os.path.join(path_to_pickles, 'df_eolien_norm.pkl'))\n",
    "df_solaire_norm    = pd.read_pickle(os.path.join(path_to_pickles, 'df_solaire_norm.pkl'))\n",
    "df_temperatures    = pd.read_pickle(os.path.join(path_to_pickles, 'df_temperatures.pkl'))"
   ]
  },
  {
   "cell_type": "code",
   "execution_count": 8,
   "id": "e00c6847",
   "metadata": {},
   "outputs": [
    {
     "data": {
      "text/html": [
       "<div>\n",
       "<style scoped>\n",
       "    .dataframe tbody tr th:only-of-type {\n",
       "        vertical-align: middle;\n",
       "    }\n",
       "\n",
       "    .dataframe tbody tr th {\n",
       "        vertical-align: top;\n",
       "    }\n",
       "\n",
       "    .dataframe thead th {\n",
       "        text-align: right;\n",
       "    }\n",
       "</style>\n",
       "<table border=\"1\" class=\"dataframe\">\n",
       "  <thead>\n",
       "    <tr style=\"text-align: right;\">\n",
       "      <th></th>\n",
       "      <th>Consommation</th>\n",
       "      <th>Fioul</th>\n",
       "      <th>Charbon</th>\n",
       "      <th>Gaz</th>\n",
       "      <th>Nucléaire</th>\n",
       "      <th>Eolien</th>\n",
       "      <th>Solaire</th>\n",
       "      <th>Hydraulique</th>\n",
       "      <th>Pompage</th>\n",
       "      <th>Bioénergies</th>\n",
       "      <th>Ech. physiques</th>\n",
       "    </tr>\n",
       "    <tr>\n",
       "      <th>DateTime</th>\n",
       "      <th></th>\n",
       "      <th></th>\n",
       "      <th></th>\n",
       "      <th></th>\n",
       "      <th></th>\n",
       "      <th></th>\n",
       "      <th></th>\n",
       "      <th></th>\n",
       "      <th></th>\n",
       "      <th></th>\n",
       "      <th></th>\n",
       "    </tr>\n",
       "  </thead>\n",
       "  <tbody>\n",
       "    <tr>\n",
       "      <th>2012-01-01 00:00:00</th>\n",
       "      <td>58315.0</td>\n",
       "      <td>492.0</td>\n",
       "      <td>25.0</td>\n",
       "      <td>3816.0</td>\n",
       "      <td>52697.0</td>\n",
       "      <td>3588.0</td>\n",
       "      <td>0.0</td>\n",
       "      <td>7922.0</td>\n",
       "      <td>-1139.0</td>\n",
       "      <td>719.0</td>\n",
       "      <td>-9806.0</td>\n",
       "    </tr>\n",
       "    <tr>\n",
       "      <th>2012-01-01 00:15:00</th>\n",
       "      <td>NaN</td>\n",
       "      <td>NaN</td>\n",
       "      <td>NaN</td>\n",
       "      <td>NaN</td>\n",
       "      <td>NaN</td>\n",
       "      <td>NaN</td>\n",
       "      <td>NaN</td>\n",
       "      <td>NaN</td>\n",
       "      <td>NaN</td>\n",
       "      <td>NaN</td>\n",
       "      <td>NaN</td>\n",
       "    </tr>\n",
       "    <tr>\n",
       "      <th>2012-01-01 00:30:00</th>\n",
       "      <td>58315.0</td>\n",
       "      <td>492.0</td>\n",
       "      <td>25.0</td>\n",
       "      <td>3816.0</td>\n",
       "      <td>52697.0</td>\n",
       "      <td>3588.0</td>\n",
       "      <td>0.0</td>\n",
       "      <td>7922.0</td>\n",
       "      <td>-1139.0</td>\n",
       "      <td>719.0</td>\n",
       "      <td>-9806.0</td>\n",
       "    </tr>\n",
       "    <tr>\n",
       "      <th>2012-01-01 00:45:00</th>\n",
       "      <td>NaN</td>\n",
       "      <td>NaN</td>\n",
       "      <td>NaN</td>\n",
       "      <td>NaN</td>\n",
       "      <td>NaN</td>\n",
       "      <td>NaN</td>\n",
       "      <td>NaN</td>\n",
       "      <td>NaN</td>\n",
       "      <td>NaN</td>\n",
       "      <td>NaN</td>\n",
       "      <td>NaN</td>\n",
       "    </tr>\n",
       "    <tr>\n",
       "      <th>2012-01-01 01:00:00</th>\n",
       "      <td>56231.0</td>\n",
       "      <td>492.0</td>\n",
       "      <td>25.0</td>\n",
       "      <td>3834.0</td>\n",
       "      <td>51747.0</td>\n",
       "      <td>3536.0</td>\n",
       "      <td>0.0</td>\n",
       "      <td>7598.0</td>\n",
       "      <td>-1730.0</td>\n",
       "      <td>721.0</td>\n",
       "      <td>-9993.0</td>\n",
       "    </tr>\n",
       "  </tbody>\n",
       "</table>\n",
       "</div>"
      ],
      "text/plain": [
       "                     Consommation  Fioul  Charbon     Gaz  Nucléaire  Eolien  \\\n",
       "DateTime                                                                       \n",
       "2012-01-01 00:00:00       58315.0  492.0     25.0  3816.0    52697.0  3588.0   \n",
       "2012-01-01 00:15:00           NaN    NaN      NaN     NaN        NaN     NaN   \n",
       "2012-01-01 00:30:00       58315.0  492.0     25.0  3816.0    52697.0  3588.0   \n",
       "2012-01-01 00:45:00           NaN    NaN      NaN     NaN        NaN     NaN   \n",
       "2012-01-01 01:00:00       56231.0  492.0     25.0  3834.0    51747.0  3536.0   \n",
       "\n",
       "                     Solaire  Hydraulique  Pompage  Bioénergies  \\\n",
       "DateTime                                                          \n",
       "2012-01-01 00:00:00      0.0       7922.0  -1139.0        719.0   \n",
       "2012-01-01 00:15:00      NaN          NaN      NaN          NaN   \n",
       "2012-01-01 00:30:00      0.0       7922.0  -1139.0        719.0   \n",
       "2012-01-01 00:45:00      NaN          NaN      NaN          NaN   \n",
       "2012-01-01 01:00:00      0.0       7598.0  -1730.0        721.0   \n",
       "\n",
       "                     Ech. physiques  \n",
       "DateTime                             \n",
       "2012-01-01 00:00:00         -9806.0  \n",
       "2012-01-01 00:15:00             NaN  \n",
       "2012-01-01 00:30:00         -9806.0  \n",
       "2012-01-01 00:45:00             NaN  \n",
       "2012-01-01 01:00:00         -9993.0  "
      ]
     },
     "execution_count": 8,
     "metadata": {},
     "output_type": "execute_result"
    }
   ],
   "source": [
    "df_data_nationales.head()"
   ]
  },
  {
   "cell_type": "code",
   "execution_count": 9,
   "id": "1c416fde",
   "metadata": {
    "scrolled": true
   },
   "outputs": [
    {
     "data": {
      "text/html": [
       "<div>\n",
       "<style scoped>\n",
       "    .dataframe tbody tr th:only-of-type {\n",
       "        vertical-align: middle;\n",
       "    }\n",
       "\n",
       "    .dataframe tbody tr th {\n",
       "        vertical-align: top;\n",
       "    }\n",
       "\n",
       "    .dataframe thead th {\n",
       "        text-align: right;\n",
       "    }\n",
       "</style>\n",
       "<table border=\"1\" class=\"dataframe\">\n",
       "  <thead>\n",
       "    <tr style=\"text-align: right;\">\n",
       "      <th>Region</th>\n",
       "      <th>Auvergne-Rhône-Alpes</th>\n",
       "      <th>Bourgogne-Franche-Comté</th>\n",
       "      <th>Bretagne</th>\n",
       "      <th>Centre-Val de Loire</th>\n",
       "      <th>Grand-Est</th>\n",
       "      <th>Hauts-de-France</th>\n",
       "      <th>Ile-de-France</th>\n",
       "      <th>Normandie</th>\n",
       "      <th>Nouvelle-Aquitaine</th>\n",
       "      <th>Occitanie</th>\n",
       "      <th>PACA</th>\n",
       "      <th>Pays-de-la-Loire</th>\n",
       "    </tr>\n",
       "    <tr>\n",
       "      <th>date_validite</th>\n",
       "      <th></th>\n",
       "      <th></th>\n",
       "      <th></th>\n",
       "      <th></th>\n",
       "      <th></th>\n",
       "      <th></th>\n",
       "      <th></th>\n",
       "      <th></th>\n",
       "      <th></th>\n",
       "      <th></th>\n",
       "      <th></th>\n",
       "      <th></th>\n",
       "    </tr>\n",
       "  </thead>\n",
       "  <tbody>\n",
       "    <tr>\n",
       "      <th>2013-01-01 23:00:00</th>\n",
       "      <td>5.75</td>\n",
       "      <td>3.55</td>\n",
       "      <td>6.400000</td>\n",
       "      <td>3.55</td>\n",
       "      <td>4.78</td>\n",
       "      <td>4.50</td>\n",
       "      <td>3.54</td>\n",
       "      <td>4.6</td>\n",
       "      <td>5.0</td>\n",
       "      <td>5.933333</td>\n",
       "      <td>6.750</td>\n",
       "      <td>4.45</td>\n",
       "    </tr>\n",
       "    <tr>\n",
       "      <th>2013-01-02 00:00:00</th>\n",
       "      <td>5.30</td>\n",
       "      <td>2.95</td>\n",
       "      <td>6.366667</td>\n",
       "      <td>3.25</td>\n",
       "      <td>4.42</td>\n",
       "      <td>4.60</td>\n",
       "      <td>3.38</td>\n",
       "      <td>4.8</td>\n",
       "      <td>5.1</td>\n",
       "      <td>5.600000</td>\n",
       "      <td>6.425</td>\n",
       "      <td>4.10</td>\n",
       "    </tr>\n",
       "    <tr>\n",
       "      <th>2013-01-02 01:00:00</th>\n",
       "      <td>4.90</td>\n",
       "      <td>2.35</td>\n",
       "      <td>6.300000</td>\n",
       "      <td>3.10</td>\n",
       "      <td>4.06</td>\n",
       "      <td>4.75</td>\n",
       "      <td>3.34</td>\n",
       "      <td>5.0</td>\n",
       "      <td>5.3</td>\n",
       "      <td>5.400000</td>\n",
       "      <td>6.150</td>\n",
       "      <td>3.95</td>\n",
       "    </tr>\n",
       "    <tr>\n",
       "      <th>2013-01-02 02:00:00</th>\n",
       "      <td>4.60</td>\n",
       "      <td>1.85</td>\n",
       "      <td>5.966667</td>\n",
       "      <td>3.15</td>\n",
       "      <td>3.74</td>\n",
       "      <td>4.80</td>\n",
       "      <td>3.44</td>\n",
       "      <td>5.2</td>\n",
       "      <td>5.4</td>\n",
       "      <td>5.283333</td>\n",
       "      <td>5.875</td>\n",
       "      <td>3.90</td>\n",
       "    </tr>\n",
       "    <tr>\n",
       "      <th>2013-01-02 03:00:00</th>\n",
       "      <td>4.30</td>\n",
       "      <td>1.50</td>\n",
       "      <td>5.833333</td>\n",
       "      <td>3.00</td>\n",
       "      <td>3.40</td>\n",
       "      <td>4.90</td>\n",
       "      <td>3.46</td>\n",
       "      <td>5.3</td>\n",
       "      <td>5.3</td>\n",
       "      <td>5.316667</td>\n",
       "      <td>5.600</td>\n",
       "      <td>3.75</td>\n",
       "    </tr>\n",
       "  </tbody>\n",
       "</table>\n",
       "</div>"
      ],
      "text/plain": [
       "Region               Auvergne-Rhône-Alpes  Bourgogne-Franche-Comté  Bretagne  \\\n",
       "date_validite                                                                  \n",
       "2013-01-01 23:00:00                  5.75                     3.55  6.400000   \n",
       "2013-01-02 00:00:00                  5.30                     2.95  6.366667   \n",
       "2013-01-02 01:00:00                  4.90                     2.35  6.300000   \n",
       "2013-01-02 02:00:00                  4.60                     1.85  5.966667   \n",
       "2013-01-02 03:00:00                  4.30                     1.50  5.833333   \n",
       "\n",
       "Region               Centre-Val de Loire  Grand-Est  Hauts-de-France  \\\n",
       "date_validite                                                          \n",
       "2013-01-01 23:00:00                 3.55       4.78             4.50   \n",
       "2013-01-02 00:00:00                 3.25       4.42             4.60   \n",
       "2013-01-02 01:00:00                 3.10       4.06             4.75   \n",
       "2013-01-02 02:00:00                 3.15       3.74             4.80   \n",
       "2013-01-02 03:00:00                 3.00       3.40             4.90   \n",
       "\n",
       "Region               Ile-de-France  Normandie  Nouvelle-Aquitaine  Occitanie  \\\n",
       "date_validite                                                                  \n",
       "2013-01-01 23:00:00           3.54        4.6                 5.0   5.933333   \n",
       "2013-01-02 00:00:00           3.38        4.8                 5.1   5.600000   \n",
       "2013-01-02 01:00:00           3.34        5.0                 5.3   5.400000   \n",
       "2013-01-02 02:00:00           3.44        5.2                 5.4   5.283333   \n",
       "2013-01-02 03:00:00           3.46        5.3                 5.3   5.316667   \n",
       "\n",
       "Region                PACA  Pays-de-la-Loire  \n",
       "date_validite                                 \n",
       "2013-01-01 23:00:00  6.750              4.45  \n",
       "2013-01-02 00:00:00  6.425              4.10  \n",
       "2013-01-02 01:00:00  6.150              3.95  \n",
       "2013-01-02 02:00:00  5.875              3.90  \n",
       "2013-01-02 03:00:00  5.600              3.75  "
      ]
     },
     "execution_count": 9,
     "metadata": {},
     "output_type": "execute_result"
    }
   ],
   "source": [
    "df_temperatures.head()"
   ]
  },
  {
   "cell_type": "markdown",
   "id": "f3273f9a",
   "metadata": {},
   "source": [
    "Check missing values with missingno package"
   ]
  },
  {
   "cell_type": "markdown",
   "id": "49cd020a",
   "metadata": {},
   "source": [
    "### Prepare the data"
   ]
  },
  {
   "cell_type": "markdown",
   "id": "732b5086",
   "metadata": {},
   "source": [
    "1. Retreive the information about the evolution of the national energy consumption in France. Keep only the column \"Consommation\" and downsample to hourly data (instead of every 15 min):"
   ]
  },
  {
   "cell_type": "code",
   "execution_count": 10,
   "id": "8b0897a4",
   "metadata": {},
   "outputs": [
    {
     "data": {
      "text/html": [
       "<div>\n",
       "<style scoped>\n",
       "    .dataframe tbody tr th:only-of-type {\n",
       "        vertical-align: middle;\n",
       "    }\n",
       "\n",
       "    .dataframe tbody tr th {\n",
       "        vertical-align: top;\n",
       "    }\n",
       "\n",
       "    .dataframe thead th {\n",
       "        text-align: right;\n",
       "    }\n",
       "</style>\n",
       "<table border=\"1\" class=\"dataframe\">\n",
       "  <thead>\n",
       "    <tr style=\"text-align: right;\">\n",
       "      <th></th>\n",
       "      <th>Consommation</th>\n",
       "    </tr>\n",
       "    <tr>\n",
       "      <th>DateTime</th>\n",
       "      <th></th>\n",
       "    </tr>\n",
       "  </thead>\n",
       "  <tbody>\n",
       "    <tr>\n",
       "      <th>2012-01-01 00:00:00</th>\n",
       "      <td>58315.0</td>\n",
       "    </tr>\n",
       "    <tr>\n",
       "      <th>2012-01-01 01:00:00</th>\n",
       "      <td>56153.0</td>\n",
       "    </tr>\n",
       "    <tr>\n",
       "      <th>2012-01-01 02:00:00</th>\n",
       "      <td>55221.5</td>\n",
       "    </tr>\n",
       "    <tr>\n",
       "      <th>2012-01-01 03:00:00</th>\n",
       "      <td>51580.0</td>\n",
       "    </tr>\n",
       "    <tr>\n",
       "      <th>2012-01-01 04:00:00</th>\n",
       "      <td>48378.5</td>\n",
       "    </tr>\n",
       "  </tbody>\n",
       "</table>\n",
       "</div>"
      ],
      "text/plain": [
       "                     Consommation\n",
       "DateTime                         \n",
       "2012-01-01 00:00:00       58315.0\n",
       "2012-01-01 01:00:00       56153.0\n",
       "2012-01-01 02:00:00       55221.5\n",
       "2012-01-01 03:00:00       51580.0\n",
       "2012-01-01 04:00:00       48378.5"
      ]
     },
     "execution_count": 10,
     "metadata": {},
     "output_type": "execute_result"
    }
   ],
   "source": [
    "conso_nat = pd.DataFrame(df_data_nationales['Consommation'].dropna(axis=0).resample('H').mean())\n",
    "conso_nat.head()"
   ]
  },
  {
   "cell_type": "code",
   "execution_count": 11,
   "id": "56414e0d-dcba-4722-842b-b417a648899b",
   "metadata": {},
   "outputs": [],
   "source": [
    "#AUTRE MÉTHOSE \n",
    "#df_data_nationales.index = pd.to_datetime(df_data_nationales.index)\n",
    "#consommation_clean = df_data_nationales['Consommation'].dropna()\n",
    "#conso_nat = consommation_clean.resample('H').mean()\n",
    "#conso_nat = pd.DataFrame(conso_nat, columns=['Consommation'])\n",
    "\n",
    "#print(conso_nat.head())"
   ]
  },
  {
   "cell_type": "code",
   "execution_count": 12,
   "id": "6c007800-92ee-4dd8-b239-eb3000a56702",
   "metadata": {},
   "outputs": [
    {
     "data": {
      "text/html": [
       "<div>\n",
       "<style scoped>\n",
       "    .dataframe tbody tr th:only-of-type {\n",
       "        vertical-align: middle;\n",
       "    }\n",
       "\n",
       "    .dataframe tbody tr th {\n",
       "        vertical-align: top;\n",
       "    }\n",
       "\n",
       "    .dataframe thead th {\n",
       "        text-align: right;\n",
       "    }\n",
       "</style>\n",
       "<table border=\"1\" class=\"dataframe\">\n",
       "  <thead>\n",
       "    <tr style=\"text-align: right;\">\n",
       "      <th></th>\n",
       "      <th>avg_temperature</th>\n",
       "    </tr>\n",
       "    <tr>\n",
       "      <th>date_validite</th>\n",
       "      <th></th>\n",
       "    </tr>\n",
       "  </thead>\n",
       "  <tbody>\n",
       "    <tr>\n",
       "      <th>2013-01-01 23:00:00</th>\n",
       "      <td>4.900278</td>\n",
       "    </tr>\n",
       "    <tr>\n",
       "      <th>2013-01-02 00:00:00</th>\n",
       "      <td>4.690972</td>\n",
       "    </tr>\n",
       "    <tr>\n",
       "      <th>2013-01-02 01:00:00</th>\n",
       "      <td>4.550000</td>\n",
       "    </tr>\n",
       "    <tr>\n",
       "      <th>2013-01-02 02:00:00</th>\n",
       "      <td>4.433750</td>\n",
       "    </tr>\n",
       "    <tr>\n",
       "      <th>2013-01-02 03:00:00</th>\n",
       "      <td>4.305000</td>\n",
       "    </tr>\n",
       "  </tbody>\n",
       "</table>\n",
       "</div>"
      ],
      "text/plain": [
       "                     avg_temperature\n",
       "date_validite                       \n",
       "2013-01-01 23:00:00         4.900278\n",
       "2013-01-02 00:00:00         4.690972\n",
       "2013-01-02 01:00:00         4.550000\n",
       "2013-01-02 02:00:00         4.433750\n",
       "2013-01-02 03:00:00         4.305000"
      ]
     },
     "execution_count": 12,
     "metadata": {},
     "output_type": "execute_result"
    }
   ],
   "source": [
    "#TODO\n",
    "avg_temp_nat = pd.DataFrame(df_temperatures.mean(axis=1).resample('H').mean(), columns=['avg_temperature']).dropna(axis=0)\n",
    "avg_temp_nat.head()\n"
   ]
  },
  {
   "cell_type": "markdown",
   "id": "15e71c29",
   "metadata": {},
   "source": [
    "2. Retreive the information about the evolution of the average temperature in France. Average out the temperature over the different regions and resample to hourly data:"
   ]
  },
  {
   "cell_type": "markdown",
   "id": "eb7c156f-c64f-4ab4-a9b4-590105fc0919",
   "metadata": {},
   "source": [
    "3. Merge the two dataframes together\n",
    "\n",
    "Merging our two dataframes makes it easier to handle and save our data. the 'df.merge()' method also ensures each column has the same length (which makes plotting our data suddenly very simple)."
   ]
  },
  {
   "cell_type": "code",
   "execution_count": 13,
   "id": "c3974b00",
   "metadata": {},
   "outputs": [
    {
     "name": "stdout",
     "output_type": "stream",
     "text": [
      "Merged DataFrame:\n",
      "                     Consommation  avg_temperature\n",
      "2013-01-01 23:00:00       60870.0         4.900278\n",
      "2013-01-02 00:00:00       59298.0         4.690972\n",
      "2013-01-02 01:00:00       56016.5         4.550000\n",
      "2013-01-02 02:00:00       55624.0         4.433750\n",
      "2013-01-02 03:00:00       53148.0         4.305000\n"
     ]
    }
   ],
   "source": [
    "#how='inner', left_index=True, right_index=True\n",
    "#TODO\n",
    "merged_D_Norm= pd.merge(conso_nat, avg_temp_nat , how='inner', left_index=True, right_index=True)\n",
    "print(\"Merged DataFrame:\")\n",
    "print(merged_D_Norm.head())"
   ]
  },
  {
   "cell_type": "code",
   "execution_count": 14,
   "id": "d060ddc8-9824-4d52-9335-15fd39388554",
   "metadata": {},
   "outputs": [],
   "source": [
    "merged_D_Norm.dropna(inplace=True)"
   ]
  },
  {
   "cell_type": "markdown",
   "id": "971903ca",
   "metadata": {},
   "source": [
    "5. Normalize our data (we're trying to show a trend, it is therefore not necessary to use the absolute values)"
   ]
  },
  {
   "cell_type": "code",
   "execution_count": 15,
   "id": "f0e1917d",
   "metadata": {
    "scrolled": true
   },
   "outputs": [],
   "source": [
    "merged_D_Norm = merged_D_Norm.apply(lambda x: (x - x.min())/(x.max() - x.min())).copy()"
   ]
  },
  {
   "cell_type": "code",
   "execution_count": 16,
   "id": "3f7f4478",
   "metadata": {},
   "outputs": [
    {
     "data": {
      "text/html": [
       "<div>\n",
       "<style scoped>\n",
       "    .dataframe tbody tr th:only-of-type {\n",
       "        vertical-align: middle;\n",
       "    }\n",
       "\n",
       "    .dataframe tbody tr th {\n",
       "        vertical-align: top;\n",
       "    }\n",
       "\n",
       "    .dataframe thead th {\n",
       "        text-align: right;\n",
       "    }\n",
       "</style>\n",
       "<table border=\"1\" class=\"dataframe\">\n",
       "  <thead>\n",
       "    <tr style=\"text-align: right;\">\n",
       "      <th></th>\n",
       "      <th>Consommation</th>\n",
       "      <th>avg_temperature</th>\n",
       "      <th>smothed_conso</th>\n",
       "      <th>smothed_avg_temp</th>\n",
       "    </tr>\n",
       "  </thead>\n",
       "  <tbody>\n",
       "    <tr>\n",
       "      <th>2013-01-01 23:00:00</th>\n",
       "      <td>0.483513</td>\n",
       "      <td>0.246784</td>\n",
       "      <td>NaN</td>\n",
       "      <td>NaN</td>\n",
       "    </tr>\n",
       "    <tr>\n",
       "      <th>2013-01-02 00:00:00</th>\n",
       "      <td>0.459143</td>\n",
       "      <td>0.241350</td>\n",
       "      <td>NaN</td>\n",
       "      <td>NaN</td>\n",
       "    </tr>\n",
       "    <tr>\n",
       "      <th>2013-01-02 01:00:00</th>\n",
       "      <td>0.408272</td>\n",
       "      <td>0.237690</td>\n",
       "      <td>NaN</td>\n",
       "      <td>NaN</td>\n",
       "    </tr>\n",
       "    <tr>\n",
       "      <th>2013-01-02 02:00:00</th>\n",
       "      <td>0.402187</td>\n",
       "      <td>0.234672</td>\n",
       "      <td>NaN</td>\n",
       "      <td>NaN</td>\n",
       "    </tr>\n",
       "    <tr>\n",
       "      <th>2013-01-02 03:00:00</th>\n",
       "      <td>0.363803</td>\n",
       "      <td>0.231330</td>\n",
       "      <td>NaN</td>\n",
       "      <td>NaN</td>\n",
       "    </tr>\n",
       "    <tr>\n",
       "      <th>...</th>\n",
       "      <td>...</td>\n",
       "      <td>...</td>\n",
       "      <td>...</td>\n",
       "      <td>...</td>\n",
       "    </tr>\n",
       "    <tr>\n",
       "      <th>2013-01-05 22:00:00</th>\n",
       "      <td>0.470437</td>\n",
       "      <td>0.309941</td>\n",
       "      <td>0.518059</td>\n",
       "      <td>0.310754</td>\n",
       "    </tr>\n",
       "    <tr>\n",
       "      <th>2013-01-05 23:00:00</th>\n",
       "      <td>0.518812</td>\n",
       "      <td>0.303530</td>\n",
       "      <td>0.517462</td>\n",
       "      <td>0.310005</td>\n",
       "    </tr>\n",
       "    <tr>\n",
       "      <th>2013-01-06 00:00:00</th>\n",
       "      <td>0.499876</td>\n",
       "      <td>0.298500</td>\n",
       "      <td>0.516925</td>\n",
       "      <td>0.309216</td>\n",
       "    </tr>\n",
       "    <tr>\n",
       "      <th>2013-01-06 01:00:00</th>\n",
       "      <td>0.440455</td>\n",
       "      <td>0.294628</td>\n",
       "      <td>0.516669</td>\n",
       "      <td>0.308411</td>\n",
       "    </tr>\n",
       "    <tr>\n",
       "      <th>2013-01-06 02:00:00</th>\n",
       "      <td>0.421620</td>\n",
       "      <td>0.291462</td>\n",
       "      <td>0.515740</td>\n",
       "      <td>0.307563</td>\n",
       "    </tr>\n",
       "  </tbody>\n",
       "</table>\n",
       "<p>100 rows × 4 columns</p>\n",
       "</div>"
      ],
      "text/plain": [
       "                     Consommation  avg_temperature  smothed_conso  \\\n",
       "2013-01-01 23:00:00      0.483513         0.246784            NaN   \n",
       "2013-01-02 00:00:00      0.459143         0.241350            NaN   \n",
       "2013-01-02 01:00:00      0.408272         0.237690            NaN   \n",
       "2013-01-02 02:00:00      0.402187         0.234672            NaN   \n",
       "2013-01-02 03:00:00      0.363803         0.231330            NaN   \n",
       "...                           ...              ...            ...   \n",
       "2013-01-05 22:00:00      0.470437         0.309941       0.518059   \n",
       "2013-01-05 23:00:00      0.518812         0.303530       0.517462   \n",
       "2013-01-06 00:00:00      0.499876         0.298500       0.516925   \n",
       "2013-01-06 01:00:00      0.440455         0.294628       0.516669   \n",
       "2013-01-06 02:00:00      0.421620         0.291462       0.515740   \n",
       "\n",
       "                     smothed_avg_temp  \n",
       "2013-01-01 23:00:00               NaN  \n",
       "2013-01-02 00:00:00               NaN  \n",
       "2013-01-02 01:00:00               NaN  \n",
       "2013-01-02 02:00:00               NaN  \n",
       "2013-01-02 03:00:00               NaN  \n",
       "...                               ...  \n",
       "2013-01-05 22:00:00          0.310754  \n",
       "2013-01-05 23:00:00          0.310005  \n",
       "2013-01-06 00:00:00          0.309216  \n",
       "2013-01-06 01:00:00          0.308411  \n",
       "2013-01-06 02:00:00          0.307563  \n",
       "\n",
       "[100 rows x 4 columns]"
      ]
     },
     "execution_count": 16,
     "metadata": {},
     "output_type": "execute_result"
    }
   ],
   "source": [
    "rolling_window = 100\n",
    "merged_D_Norm['smothed_conso'] = merged_D_Norm.Consommation.rolling(rolling_window, center=True).mean()\n",
    "merged_D_Norm['smothed_avg_temp'] = merged_D_Norm.avg_temperature.rolling(rolling_window, center=True).mean()\n",
    "merged_D_Norm.head(100)"
   ]
  },
  {
   "cell_type": "code",
   "execution_count": 19,
   "id": "89c495a7-4b4c-4b10-97fa-b5696a0da75b",
   "metadata": {},
   "outputs": [
    {
     "data": {
      "image/png": "[encoded data removed]",
      "text/plain": [
       "<Figure size 640x480 with 1 Axes>"
      ]
     },
     "metadata": {},
     "output_type": "display_data"
    }
   ],
   "source": [
    "merged_D_Norm.plot()\n",
    "plt.show()"
   ]
  },
  {
   "cell_type": "code",
   "execution_count": null,
   "id": "4643c129",
   "metadata": {},
   "outputs": [],
   "source": [
    "merged_D_Norm.dropna(inplace=True)"
   ]
  },
  {
   "cell_type": "markdown",
   "id": "f4684674",
   "metadata": {},
   "source": [
    "7. write the dataframe to a folder data_processed in notebook_guide"
   ]
  },
  {
   "cell_type": "code",
   "execution_count": null,
   "id": "8a3ef978",
   "metadata": {},
   "outputs": [],
   "source": [
    "ROOT = '.'\n",
    "folder = 'data_processed'\n",
    "fp = os.path.join(ROOT, folder) # fp is folderpath\n",
    "\n",
    "if not os.path.exists(fp):\n",
    "    os.mkdir(fp)\n",
    "\n",
    "filename = \"consumption_vs_temperature.pkl\"\n",
    "fpath_data = os.path.join(fp, filename)\n",
    "merged_D_Norm.to_pickle(fpath_data)"
   ]
  },
  {
   "cell_type": "markdown",
   "id": "ed3f67aa",
   "metadata": {},
   "source": [
    "8. Make a standard plot of the dataframe"
   ]
  },
  {
   "cell_type": "code",
   "execution_count": null,
   "id": "66e91d12",
   "metadata": {},
   "outputs": [],
   "source": [
    "df_eolien_norm     = pd.read_pickle(os.path.join(path_to_pickles, 'df_eolien_norm.pkl'))\n",
    "df_solaire_norm    = pd.read_pickle(os.path.join(path_to_pickles, 'df_solaire_norm.pkl'))"
   ]
  },
  {
   "cell_type": "code",
   "execution_count": null,
   "id": "622907f0-3807-4011-9b8a-33438c8cd18c",
   "metadata": {},
   "outputs": [],
   "source": []
  },
  {
   "cell_type": "markdown",
   "id": "88d47229",
   "metadata": {},
   "source": [
    "... hum, well... that looks... ... lets use to plotly to make this figure look nice and add some interactivity!"
   ]
  },
  {
   "cell_type": "markdown",
   "id": "af70b0bb",
   "metadata": {},
   "source": [
    "# Plotting with plotly"
   ]
  },
  {
   "cell_type": "markdown",
   "id": "ba98c41d",
   "metadata": {},
   "source": [
    "## Setup before plotting"
   ]
  },
  {
   "cell_type": "markdown",
   "id": "751712bf",
   "metadata": {},
   "source": [
    "Create a font dictionnary that will help you styling your figures"
   ]
  },
  {
   "cell_type": "code",
   "execution_count": null,
   "id": "c399804a",
   "metadata": {},
   "outputs": [],
   "source": [
    "# example\n",
    "\n",
    "font = {\n",
    "    'family': \"Courier New\",\n",
    "    'size': {\n",
    "        'small': 12,\n",
    "        'medium': 16,\n",
    "        'big': 20\n",
    "        },\n",
    "    'color': {\n",
    "        'axes': 'rgb(180, 180, 180)',\n",
    "        'primary': 'lightcoral',\n",
    "        'secondary': 'lightsteelblue',\n",
    "        'highlight': 'sandybrown'\n",
    "    },\n",
    "    'line width': 2\n",
    "}"
   ]
  },
  {
   "cell_type": "markdown",
   "id": "8ffa331e",
   "metadata": {},
   "source": [
    "Note: There are a lot of named CSS colors you can pick from to customize your graph, but rememebr: don't pick too many! Three different colors is usually more than enough.  \n",
    "FYI, these are the colors, play around with them (also check out https://developer.mozilla.org/en-US/docs/Web/CSS/named-color to visualise the colors):\n",
    "\n",
    "*aliceblue, antiquewhite, aqua, aquamarine, azure,\n",
    "beige, bisque, black, blanchedalmond, blue,\n",
    "blueviolet, brown, burlywood, cadetblue,\n",
    "chartreuse, chocolate, coral, cornflowerblue,\n",
    "cornsilk, crimson, cyan, darkblue, darkcyan,\n",
    "darkgoldenrod, darkgray, darkgrey, darkgreen,\n",
    "darkkhaki, darkmagenta, darkolivegreen, darkorange,\n",
    "darkorchid, darkred, darksalmon, darkseagreen,\n",
    "darkslateblue, darkslategray, darkslategrey,\n",
    "darkturquoise, darkviolet, deeppink, deepskyblue,\n",
    "dimgray, dimgrey, dodgerblue, firebrick,\n",
    "floralwhite, forestgreen, fuchsia, gainsboro,\n",
    "ghostwhite, gold, goldenrod, gray, grey, green,\n",
    "greenyellow, honeydew, hotpink, indianred, indigo,\n",
    "ivory, khaki, lavender, lavenderblush, lawngreen,\n",
    "lemonchiffon, lightblue, lightcoral, lightcyan,\n",
    "lightgoldenrodyellow, lightgray, lightgrey,\n",
    "lightgreen, lightpink, lightsalmon, lightseagreen,\n",
    "lightskyblue, lightslategray, lightslategrey,\n",
    "lightsteelblue, lightyellow, lime, limegreen,\n",
    "linen, magenta, maroon, mediumaquamarine,\n",
    "mediumblue, mediumorchid, mediumpurple,\n",
    "mediumseagreen, mediumslateblue, mediumspringgreen,\n",
    "mediumturquoise, mediumvioletred, midnightblue,\n",
    "mintcream, mistyrose, moccasin, navajowhite, navy,\n",
    "oldlace, olive, olivedrab, orange, orangered,\n",
    "orchid, palegoldenrod, palegreen, paleturquoise,\n",
    "palevioletred, papayawhip, peachpuff, peru, pink,\n",
    "plum, powderblue, purple, red, rosybrown,\n",
    "royalblue, rebeccapurple, saddlebrown, salmon,\n",
    "sandybrown, seagreen, seashell, sienna, silver,\n",
    "skyblue, slateblue, slategray, slategrey, snow,\n",
    "springgreen, steelblue, tan, teal, thistle, tomato,\n",
    "turquoise, violet, wheat, white, whitesmoke,\n",
    "yellow, yellowgreen*"
   ]
  },
  {
   "cell_type": "markdown",
   "id": "185cb9ac",
   "metadata": {},
   "source": [
    "Once you settled on your styles, you can export this \"style dictionnary\" (for example as **style.json**) so it can be reused elsewhere in your project (or even in different projects). This will help you ensure style consistency throughout your plotting projects."
   ]
  },
  {
   "cell_type": "markdown",
   "id": "37b989d4",
   "metadata": {},
   "source": [
    "1. Write the font dictionnary to a json file in a css folder in notebook_guide"
   ]
  },
  {
   "cell_type": "code",
   "execution_count": null,
   "id": "08dfff85",
   "metadata": {},
   "outputs": [],
   "source": [
    "import json\n",
    "\n",
    "ROOT = '.'\n",
    "path_css = os.path.join(ROOT, 'static')\n",
    "\n",
    "if not os.path.exists(path_css):\n",
    "    os.mkdir(path_css)\n",
    "\n",
    "filename = \"style.json\"\n",
    "fpath_styling = os.path.join(path_css, filename)\n",
    "\n",
    "with open(fpath_styling, 'w') as file:\n",
    "    file.write(json.dumps(font, indent=4, sort_keys=True))"
   ]
  },
  {
   "cell_type": "markdown",
   "id": "75f84a55",
   "metadata": {},
   "source": [
    "2. Create a simple function that adds lineplots to a figure (in plotly these are called \"traces\"). The purpose of this function is to allow you to easily add extra 'traces' (for example lines) to your figure"
   ]
  },
  {
   "cell_type": "code",
   "execution_count": null,
   "id": "486d0a45",
   "metadata": {},
   "outputs": [],
   "source": [
    "def add_data_to_figure(fig, x, y, label=\"no label\", color=\"red\", line_width=1, opacity=1):\n",
    "    \n",
    "    fig.add_trace(\n",
    "        go.Scatter(\n",
    "            x=x, y=y, \n",
    "            mode='lines+markers', # try only lines and you'll see that lasso and box select dissapear when there are too many datapoints\n",
    "            name=label,\n",
    "            line=dict(color=color, width=line_width),\n",
    "            connectgaps=True,\n",
    "            opacity=opacity\n",
    "    ))\n",
    "\n",
    "    return fig"
   ]
  },
  {
   "cell_type": "markdown",
   "id": "ae761202",
   "metadata": {},
   "source": [
    "## Creating the actual figure"
   ]
  },
  {
   "cell_type": "markdown",
   "id": "9ee3e9f1",
   "metadata": {},
   "source": [
    "1. Load the font dict"
   ]
  },
  {
   "cell_type": "code",
   "execution_count": null,
   "id": "c0c0ede7",
   "metadata": {},
   "outputs": [],
   "source": [
    "with open(fpath_styling, 'r') as file:\n",
    "    font = json.load(file)\n",
    "    print(json.dumps(font, indent=4,))"
   ]
  },
  {
   "cell_type": "markdown",
   "id": "e6403546",
   "metadata": {},
   "source": [
    "2. Load the pre-processed data"
   ]
  },
  {
   "cell_type": "code",
   "execution_count": null,
   "id": "3d9b4428",
   "metadata": {},
   "outputs": [],
   "source": [
    "df = pd.read_pickle(fpath_data)\n",
    "df.head()"
   ]
  },
  {
   "cell_type": "markdown",
   "id": "622738c8",
   "metadata": {},
   "source": [
    "3. Choose the data you want to plot and _how_ you want to plot it"
   ]
  },
  {
   "cell_type": "code",
   "execution_count": null,
   "id": "43db8a93",
   "metadata": {},
   "outputs": [],
   "source": [
    "x = df.index\n",
    "\n",
    "# trace 1: average temperature\n",
    "y1 = df.avg_temperature\n",
    "label = 'Average temperature'\n",
    "color = font['color']['primary']\n",
    "lw = font['line width']\n",
    "opacity = 0.2\n",
    "plot_args1 = (x, y1, label, color, lw, opacity)\n",
    "\n",
    "# trace 2: energy consumption\n",
    "y2 = df.Consommation\n",
    "label = 'Energy consumption'\n",
    "color = font['color']['secondary']\n",
    "lw = font['line width']\n",
    "opacity = 0.2\n",
    "plot_args2 = (x, y2, label, color, lw, opacity)"
   ]
  },
  {
   "cell_type": "markdown",
   "id": "9dd353b6",
   "metadata": {},
   "source": [
    "4. Create a new figure and add the traces to it"
   ]
  },
  {
   "cell_type": "code",
   "execution_count": null,
   "id": "6b0ac568",
   "metadata": {},
   "outputs": [],
   "source": [
    "import plotly.graph_objects as go\n",
    "\n",
    "fig = go.FigureWidget()\n",
    "\n",
    "add_data_to_figure(fig, *plot_args1)\n",
    "add_data_to_figure(fig, *plot_args2)\n",
    "\n",
    "fig.show()"
   ]
  },
  {
   "cell_type": "markdown",
   "id": "a5ad3d6a-a7d7-49f4-b97a-b82821ed21f8",
   "metadata": {},
   "source": [
    "...hum ... well, at least it's interactive now!"
   ]
  },
  {
   "cell_type": "markdown",
   "id": "0cdc5297",
   "metadata": {},
   "source": [
    "Let's add even more traces:"
   ]
  },
  {
   "cell_type": "code",
   "execution_count": null,
   "id": "60529a47",
   "metadata": {},
   "outputs": [],
   "source": [
    "# trace 3: average temperature - smoothed\n",
    "y3 = df.smothed_avg_temp\n",
    "label = 'temp - smoothed'\n",
    "color = font['color']['primary']\n",
    "lw = font['line width'] + 0.5\n",
    "plot_args3 = (x, y3, label, color, lw)\n",
    "\n",
    "# trace 4: energy consumption - smoothed\n",
    "y4 = df.smothed_conso\n",
    "label = \"conso - smoothed\"\n",
    "color = font['color']['secondary']\n",
    "lw = font['line width'] + 0.5\n",
    "plot_args4 = (x, y4, label, color, lw)\n",
    "\n",
    "\n",
    "add_data_to_figure(fig, *plot_args3)\n",
    "add_data_to_figure(fig, *plot_args4)\n",
    "\n",
    "\n",
    "fig.show()"
   ]
  },
  {
   "cell_type": "markdown",
   "id": "f75f6ce5-9e0e-4fc0-a6f1-eb7812f49147",
   "metadata": {},
   "source": [
    "After having dialed back the \"raw data\" it already looks a lot less crowded. Again, we're just interested in the general trends here."
   ]
  },
  {
   "cell_type": "markdown",
   "id": "955cc8f9",
   "metadata": {},
   "source": [
    "Now we'll add some annotations to the figure:\n",
    "\n",
    "https://plotly.com/python/text-and-annotations/"
   ]
  },
  {
   "cell_type": "markdown",
   "id": "b2295436-8b9f-495c-bd6b-2f5ce66c9067",
   "metadata": {},
   "source": [
    "Let's check the default font sizes that we've set earlier:"
   ]
  },
  {
   "cell_type": "code",
   "execution_count": null,
   "id": "60e7baf0",
   "metadata": {},
   "outputs": [],
   "source": [
    "font['size']"
   ]
  },
  {
   "cell_type": "code",
   "execution_count": null,
   "id": "9eaa429c",
   "metadata": {},
   "outputs": [],
   "source": [
    "text = {\n",
    "    'title': \"When the temperature drops, the energy consumption rises.\",\n",
    "    'source': \"RTE france (normalised data)\"\n",
    "}\n",
    "\n",
    "\n",
    "annotations = []\n",
    "\n",
    "# add a title (used to describe the figure)\n",
    "annotations.append(dict(xref='paper', yref='paper',\n",
    "                        x=0.5, y=1.10,\n",
    "                        xanchor='center', yanchor='bottom',\n",
    "                        text=text[\"title\"],\n",
    "                        font=dict(family=font[\"family\"],\n",
    "                                  size=font[\"size\"][\"big\"],\n",
    "                                  color=font[\"color\"]['axes']),\n",
    "                        showarrow=False))\n",
    "\n",
    "\n",
    "# add text at the bottom of the figure\n",
    "annotations.append(dict(xref='paper', yref='paper',\n",
    "                        x=0.5, y=-0.2,\n",
    "                        xanchor='center', yanchor='top',\n",
    "                        text=text[\"source\"],\n",
    "                        font=dict(family=font[\"family\"],\n",
    "                                  size=font[\"size\"][\"small\"],\n",
    "                                  color=font[\"color\"]['axes']),\n",
    "                        showarrow=False))\n",
    "\n",
    "\n",
    "fig.update_layout(annotations=annotations)"
   ]
  },
  {
   "cell_type": "markdown",
   "id": "98e9ef54",
   "metadata": {},
   "source": [
    "What do we want?! **MORE ANNOTATIONS !!**  \n",
    "Wen do we want them?! **NOOOOOW !!!**"
   ]
  },
  {
   "cell_type": "code",
   "execution_count": null,
   "id": "865ee0da",
   "metadata": {},
   "outputs": [],
   "source": [
    "# Adding labels to the traces (directly on the plot)\n",
    "x, y, label, color, _ = plot_args3\n",
    "annotations.append(dict(xref='x', yref='y',\n",
    "                        x=x[-1] + pd.offsets.Day(20),\n",
    "                        y=y.iloc[-1],\n",
    "                        xanchor='left', yanchor='middle',\n",
    "                        text=\"Average Temperature\",\n",
    "                        font=dict(family=font[\"family\"],\n",
    "                                  size=font[\"size\"][\"medium\"],\n",
    "                                  color=color),\n",
    "                        showarrow=False))\n",
    "\n",
    "\n",
    "x, y, label, color, _ = plot_args4\n",
    "annotations.append(dict(xref='x', yref='y',\n",
    "                        x=x[-1] + pd.offsets.Day(20),\n",
    "                        y=y.iloc[-1],\n",
    "                        xanchor='left', yanchor='middle',\n",
    "                        text=\"Energy consumption\",                        \n",
    "                        font=dict(family=font[\"family\"],\n",
    "                                  size=font[\"size\"][\"medium\"],\n",
    "                                  color=color),\n",
    "                        showarrow=False))\n",
    "\n",
    "\n",
    "fig.update_layout(annotations=annotations)"
   ]
  },
  {
   "cell_type": "markdown",
   "id": "c0744986",
   "metadata": {},
   "source": [
    "Now make the figure beautiful _(this can take a lot of time, but once it's done it's done!)_:"
   ]
  },
  {
   "cell_type": "code",
   "execution_count": null,
   "id": "36a6a0e9",
   "metadata": {},
   "outputs": [],
   "source": [
    "import datetime\n",
    "\n",
    "fig.update_layout(\n",
    "    \n",
    "    # customize x-axis\n",
    "    xaxis_range=[datetime.datetime(2013, 1, 1),\n",
    "                 datetime.datetime(2019, 1, 1)],\n",
    "    xaxis=dict(\n",
    "        type=\"date\",\n",
    "        tick0=\"2013-01-01\", # first tick\n",
    "        dtick=\"M12\", # interval between each tick following 'tick0' (1 year, ie 12 months)\n",
    "        tickformat=\"| %Y |\",\n",
    "        tickvals=list(range(2013, 2019)),\n",
    "        showline=True,\n",
    "        showgrid=False,\n",
    "        showticklabels=True,\n",
    "        linecolor=font[\"color\"]['axes'],\n",
    "        linewidth=2,\n",
    "        ticks='outside',\n",
    "        tickfont=dict(\n",
    "            family=font[\"family\"] + \" Bold\",\n",
    "            size=font[\"size\"][\"medium\"],\n",
    "            color=font[\"color\"]['highlight'],\n",
    "        ),\n",
    "    ),\n",
    "    \n",
    "    # customize x and y-axis\n",
    "    yaxis=dict(\n",
    "        showgrid=False,\n",
    "        zeroline=False,\n",
    "        showline=False,\n",
    "        showticklabels=False,\n",
    "    ),\n",
    "    \n",
    "    # figure size\n",
    "    autosize=False,\n",
    "    width=1500,\n",
    "    height=500,\n",
    "    \n",
    "    margin=dict(\n",
    "        autoexpand=True,\n",
    "        l=0,\n",
    "        r=110,\n",
    "        t=110,\n",
    "        b=110,\n",
    "        \n",
    "    ),\n",
    "\n",
    "    \n",
    "    # disable the legend\n",
    "    showlegend=False,\n",
    "    \n",
    "    # change the backgroud color\n",
    "    plot_bgcolor='white'\n",
    ")"
   ]
  },
  {
   "cell_type": "code",
   "execution_count": null,
   "id": "ae2ded2b-c6e2-4483-b5ff-5a281ef2ebfb",
   "metadata": {},
   "outputs": [],
   "source": []
  }
 ],
 "metadata": {
  "kernelspec": {
   "display_name": "Python 3 (ipykernel)",
   "language": "python",
   "name": "python3"
  },
  "language_info": {
   "codemirror_mode": {
    "name": "ipython",
    "version": 3
   },
   "file_extension": ".py",
   "mimetype": "text/x-python",
   "name": "python",
   "nbconvert_exporter": "python",
   "pygments_lexer": "ipython3",
   "version": "3.11.7"
  }
 },
 "nbformat": 4,
 "nbformat_minor": 5
}
