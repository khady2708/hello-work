{
 "cells": [
  {
   "cell_type": "code",
   "execution_count": 91,
   "id": "5445e425",
   "metadata": {},
   "outputs": [],
   "source": [
    "# Import standard libraries\n",
    "\n",
    "\n",
    "import matplotlib.pyplot as plt\n",
    "import pandas as pd\n",
    "import os"
   ]
  },
  {
   "cell_type": "markdown",
   "id": "f7ac4137",
   "metadata": {},
   "source": [
    "# Telling a story\n",
    "\n",
    "You want to create a figure that answers a _single_ question, for example:\n",
    "\n",
    "<H4>\n",
    "    <font color='orange'><b> --> How does the national energy consumption evolve with the change in temperature? </b></font>\n",
    "</H4>\n",
    "\n",
    "You should also determine who will be your audience (to the best of your knowledge):\n",
    "\n",
    "<H4>\n",
    "    <font color='orange'><b> My audience: A public of non experts </b></font>\n",
    "</H4>"
   ]
  },
  {
   "cell_type": "markdown",
   "id": "5a3b4ec1-885f-45e3-8e3e-3f82f4499cb1",
   "metadata": {},
   "source": [
    "Now that these two aspects are clearly stated, let's go throuh the process of answering our question with a nice Figure!  \n",
    "But first we need data!"
   ]
  },
  {
   "cell_type": "markdown",
   "id": "55b19c25",
   "metadata": {},
   "source": [
    "## Import the data"
   ]
  },
  {
   "cell_type": "markdown",
   "id": "eb76089d",
   "metadata": {},
   "source": [
    "Download the \"Pickles\" folder from google drive (*.../Modules/DataViz/DataViz3/Pickles)* and unzip its content in a new folder. There should be a total of 4 pickles in the folder:"
   ]
  },
  {
   "cell_type": "code",
   "execution_count": 92,
   "id": "b4b460b2",
   "metadata": {},
   "outputs": [
    {
     "data": {
      "text/plain": [
       "['df_solaire_norm.pkl',\n",
       " 'df_temperatures.pkl',\n",
       " 'df_eolien_norm.pkl',\n",
       " 'df_data_nationales.pkl']"
      ]
     },
     "execution_count": 92,
     "metadata": {},
     "output_type": "execute_result"
    }
   ],
   "source": [
    "path_to_pickles = '../data/Pickles'\n",
    "os.path.join(path_to_pickles)\n",
    "os.listdir(path_to_pickles)\n",
    "#!pip install missingno"
   ]
  },
  {
   "cell_type": "code",
   "execution_count": 93,
   "id": "e52928ae-6878-402a-887a-1940dd1dd44b",
   "metadata": {
    "scrolled": true
   },
   "outputs": [
    {
     "name": "stdout",
     "output_type": "stream",
     "text": [
      "DataFrame 1:\n",
      "                     Consommation  Fioul  Charbon     Gaz  Nucléaire  Eolien  \\\n",
      "DateTime                                                                       \n",
      "2012-01-01 00:00:00       58315.0  492.0     25.0  3816.0    52697.0  3588.0   \n",
      "2012-01-01 00:15:00           NaN    NaN      NaN     NaN        NaN     NaN   \n",
      "2012-01-01 00:30:00       58315.0  492.0     25.0  3816.0    52697.0  3588.0   \n",
      "2012-01-01 00:45:00           NaN    NaN      NaN     NaN        NaN     NaN   \n",
      "2012-01-01 01:00:00       56231.0  492.0     25.0  3834.0    51747.0  3536.0   \n",
      "\n",
      "                     Solaire  Hydraulique  Pompage  Bioénergies  \\\n",
      "DateTime                                                          \n",
      "2012-01-01 00:00:00      0.0       7922.0  -1139.0        719.0   \n",
      "2012-01-01 00:15:00      NaN          NaN      NaN          NaN   \n",
      "2012-01-01 00:30:00      0.0       7922.0  -1139.0        719.0   \n",
      "2012-01-01 00:45:00      NaN          NaN      NaN          NaN   \n",
      "2012-01-01 01:00:00      0.0       7598.0  -1730.0        721.0   \n",
      "\n",
      "                     Ech. physiques  \n",
      "DateTime                             \n",
      "2012-01-01 00:00:00         -9806.0  \n",
      "2012-01-01 00:15:00             NaN  \n",
      "2012-01-01 00:30:00         -9806.0  \n",
      "2012-01-01 00:45:00             NaN  \n",
      "2012-01-01 01:00:00         -9993.0  \n",
      "\n",
      "\n"
     ]
    }
   ],
   "source": [
    "\n",
    "# Spécifiez le chemin vers le dossier contenant les fichiers pickle décompressés\n",
    "path_to_pickles = '../data/Pickles'\n",
    "\n",
    "# Liste des fichiers pickle attendus\n",
    "pickle_files = ['df_data_nationales.pkl']\n",
    "\n",
    "\n",
    "# Charger les fichiers pickle dans des dataframes pandas\n",
    "dataframes = []\n",
    "for file in pickle_files:\n",
    "    file_path = os.path.join(path_to_pickles, file)\n",
    "    df = pd.read_pickle(file_path)\n",
    "    dataframes.append(df)\n",
    "\n",
    "# Afficher les premières lignes de chaque dataframe pour vérifier l'importation\n",
    "for i, df in enumerate(dataframes):\n",
    "    print(f\"DataFrame {i+1}:\")\n",
    "    print(df.head())\n",
    "    print(\"\\n\")"
   ]
  },
  {
   "cell_type": "code",
   "execution_count": 94,
   "id": "eca7b84a-080e-4358-ae1d-51377a854adf",
   "metadata": {
    "scrolled": true
   },
   "outputs": [
    {
     "name": "stdout",
     "output_type": "stream",
     "text": [
      "DataFrame 1:\n",
      "                     Consommation  Fioul  Charbon     Gaz  Nucléaire  Eolien  \\\n",
      "DateTime                                                                       \n",
      "2012-01-01 00:00:00       58315.0  492.0     25.0  3816.0    52697.0  3588.0   \n",
      "2012-01-01 00:15:00           NaN    NaN      NaN     NaN        NaN     NaN   \n",
      "2012-01-01 00:30:00       58315.0  492.0     25.0  3816.0    52697.0  3588.0   \n",
      "2012-01-01 00:45:00           NaN    NaN      NaN     NaN        NaN     NaN   \n",
      "2012-01-01 01:00:00       56231.0  492.0     25.0  3834.0    51747.0  3536.0   \n",
      "\n",
      "                     Solaire  Hydraulique  Pompage  Bioénergies  \\\n",
      "DateTime                                                          \n",
      "2012-01-01 00:00:00      0.0       7922.0  -1139.0        719.0   \n",
      "2012-01-01 00:15:00      NaN          NaN      NaN          NaN   \n",
      "2012-01-01 00:30:00      0.0       7922.0  -1139.0        719.0   \n",
      "2012-01-01 00:45:00      NaN          NaN      NaN          NaN   \n",
      "2012-01-01 01:00:00      0.0       7598.0  -1730.0        721.0   \n",
      "\n",
      "                     Ech. physiques  \n",
      "DateTime                             \n",
      "2012-01-01 00:00:00         -9806.0  \n",
      "2012-01-01 00:15:00             NaN  \n",
      "2012-01-01 00:30:00         -9806.0  \n",
      "2012-01-01 00:45:00             NaN  \n",
      "2012-01-01 01:00:00         -9993.0  \n",
      "\n",
      "\n",
      "DataFrame 2:\n",
      "Périmètre            Auvergne-Rhône-Alpes  Bourgogne-Franche-Comté  Bretagne  \\\n",
      "DateTime                                                                       \n",
      "2013-01-01 00:30:00              0.719888                 0.588889  0.136829   \n",
      "2013-01-01 01:00:00              0.719888                 0.583333  0.143223   \n",
      "2013-01-01 01:30:00              0.691877                 0.577778  0.159847   \n",
      "2013-01-01 02:00:00              0.683473                 0.572222  0.177749   \n",
      "2013-01-01 02:30:00              0.686275                 0.555556  0.200767   \n",
      "\n",
      "Périmètre            Centre-Val de Loire  Grand-Est  Hauts-de-France  \\\n",
      "DateTime                                                               \n",
      "2013-01-01 00:30:00             0.650448   0.551193         0.662901   \n",
      "2013-01-01 01:00:00             0.656850   0.553678         0.631391   \n",
      "2013-01-01 01:30:00             0.670935   0.579523         0.602854   \n",
      "2013-01-01 02:00:00             0.678617   0.615308         0.565398   \n",
      "2013-01-01 02:30:00             0.687580   0.619781         0.510702   \n",
      "\n",
      "Périmètre            Ile-de-France  Normandie  Nouvelle-Aquitaine  Occitanie  \\\n",
      "DateTime                                                                       \n",
      "2013-01-01 00:30:00       0.842105   0.457627            0.454545   0.418472   \n",
      "2013-01-01 01:00:00       0.842105   0.402542            0.480519   0.376283   \n",
      "2013-01-01 01:30:00       0.789474   0.358051            0.441558   0.326112   \n",
      "2013-01-01 02:00:00       0.789474   0.302966            0.400000   0.269099   \n",
      "2013-01-01 02:30:00       0.842105   0.286017            0.374026   0.255416   \n",
      "\n",
      "Périmètre                PACA  Pays-de-la-Loire  \n",
      "DateTime                                         \n",
      "2013-01-01 00:30:00  0.266667          0.332724  \n",
      "2013-01-01 01:00:00  0.311111          0.252285  \n",
      "2013-01-01 01:30:00  0.400000          0.223035  \n",
      "2013-01-01 02:00:00  0.444444          0.228519  \n",
      "2013-01-01 02:30:00  0.533333          0.232176  \n",
      "\n",
      "\n",
      "DataFrame 3:\n",
      "Périmètre            Auvergne-Rhône-Alpes  Bourgogne-Franche-Comté  Bretagne  \\\n",
      "DateTime                                                                       \n",
      "2013-01-01 00:30:00                   0.0                      0.0       0.0   \n",
      "2013-01-01 01:00:00                   0.0                      0.0       0.0   \n",
      "2013-01-01 01:30:00                   0.0                      0.0       0.0   \n",
      "2013-01-01 02:00:00                   0.0                      0.0       0.0   \n",
      "2013-01-01 02:30:00                   0.0                      0.0       0.0   \n",
      "\n",
      "Périmètre            Centre-Val de Loire  Grand-Est  Hauts-de-France  \\\n",
      "DateTime                                                               \n",
      "2013-01-01 00:30:00                  0.0        0.0              0.0   \n",
      "2013-01-01 01:00:00                  0.0        0.0              0.0   \n",
      "2013-01-01 01:30:00                  0.0        0.0              0.0   \n",
      "2013-01-01 02:00:00                  0.0        0.0              0.0   \n",
      "2013-01-01 02:30:00                  0.0        0.0              0.0   \n",
      "\n",
      "Périmètre            Ile-de-France  Normandie  Nouvelle-Aquitaine  Occitanie  \\\n",
      "DateTime                                                                       \n",
      "2013-01-01 00:30:00            0.0        0.0                 0.0        0.0   \n",
      "2013-01-01 01:00:00            0.0        0.0                 0.0        0.0   \n",
      "2013-01-01 01:30:00            0.0        0.0                 0.0        0.0   \n",
      "2013-01-01 02:00:00            0.0        0.0                 0.0        0.0   \n",
      "2013-01-01 02:30:00            0.0        0.0                 0.0        0.0   \n",
      "\n",
      "Périmètre            PACA  Pays-de-la-Loire  \n",
      "DateTime                                     \n",
      "2013-01-01 00:30:00   0.0               0.0  \n",
      "2013-01-01 01:00:00   0.0               0.0  \n",
      "2013-01-01 01:30:00   0.0               0.0  \n",
      "2013-01-01 02:00:00   0.0               0.0  \n",
      "2013-01-01 02:30:00   0.0               0.0  \n",
      "\n",
      "\n",
      "DataFrame 4:\n",
      "Region               Auvergne-Rhône-Alpes  Bourgogne-Franche-Comté  Bretagne  \\\n",
      "date_validite                                                                  \n",
      "2013-01-01 23:00:00                  5.75                     3.55  6.400000   \n",
      "2013-01-02 00:00:00                  5.30                     2.95  6.366667   \n",
      "2013-01-02 01:00:00                  4.90                     2.35  6.300000   \n",
      "2013-01-02 02:00:00                  4.60                     1.85  5.966667   \n",
      "2013-01-02 03:00:00                  4.30                     1.50  5.833333   \n",
      "\n",
      "Region               Centre-Val de Loire  Grand-Est  Hauts-de-France  \\\n",
      "date_validite                                                          \n",
      "2013-01-01 23:00:00                 3.55       4.78             4.50   \n",
      "2013-01-02 00:00:00                 3.25       4.42             4.60   \n",
      "2013-01-02 01:00:00                 3.10       4.06             4.75   \n",
      "2013-01-02 02:00:00                 3.15       3.74             4.80   \n",
      "2013-01-02 03:00:00                 3.00       3.40             4.90   \n",
      "\n",
      "Region               Ile-de-France  Normandie  Nouvelle-Aquitaine  Occitanie  \\\n",
      "date_validite                                                                  \n",
      "2013-01-01 23:00:00           3.54        4.6                 5.0   5.933333   \n",
      "2013-01-02 00:00:00           3.38        4.8                 5.1   5.600000   \n",
      "2013-01-02 01:00:00           3.34        5.0                 5.3   5.400000   \n",
      "2013-01-02 02:00:00           3.44        5.2                 5.4   5.283333   \n",
      "2013-01-02 03:00:00           3.46        5.3                 5.3   5.316667   \n",
      "\n",
      "Region                PACA  Pays-de-la-Loire  \n",
      "date_validite                                 \n",
      "2013-01-01 23:00:00  6.750              4.45  \n",
      "2013-01-02 00:00:00  6.425              4.10  \n",
      "2013-01-02 01:00:00  6.150              3.95  \n",
      "2013-01-02 02:00:00  5.875              3.90  \n",
      "2013-01-02 03:00:00  5.600              3.75  \n",
      "\n",
      "\n"
     ]
    }
   ],
   "source": [
    "import pandas as pd\n",
    "import os\n",
    "\n",
    "# Spécifiez le chemin vers le dossier contenant les fichiers pickle décompressés\n",
    "path_to_pickles = '../data/Pickles'\n",
    "\n",
    "# Liste des fichiers pickle attendus\n",
    "pickle_files = ['df_data_nationales.pkl', 'df_eolien_norm.pkl', 'df_solaire_norm.pkl', 'df_temperatures.pkl']\n",
    "\n",
    "\n",
    "# Charger les fichiers pickle dans des dataframes pandas\n",
    "dataframes = []\n",
    "for file in pickle_files:\n",
    "    file_path = os.path.join(path_to_pickles, file)\n",
    "    df = pd.read_pickle(file_path)\n",
    "    dataframes.append(df)\n",
    "\n",
    "# Afficher les premières lignes de chaque dataframe pour vérifier l'importation\n",
    "for i, df in enumerate(dataframes):\n",
    "    print(f\"DataFrame {i+1}:\")\n",
    "    print(df.head())\n",
    "    print(\"\\n\")"
   ]
  },
  {
   "cell_type": "code",
   "execution_count": 95,
   "id": "73e8c6e6-6d8d-465e-98f5-501c6f4574af",
   "metadata": {},
   "outputs": [
    {
     "data": {
      "text/plain": [
       "DateTime\n",
       "2012-01-01 00:00:00    7568.888889\n",
       "2012-01-01 00:15:00            NaN\n",
       "2012-01-01 00:30:00    7568.888889\n",
       "2012-01-01 00:45:00            NaN\n",
       "2012-01-01 01:00:00    7358.111111\n",
       "                          ...     \n",
       "2018-12-31 22:45:00            NaN\n",
       "2018-12-31 23:00:00    7349.666667\n",
       "2018-12-31 23:15:00            NaN\n",
       "2018-12-31 23:30:00    7215.000000\n",
       "2018-12-31 23:45:00            NaN\n",
       "Length: 245472, dtype: float64"
      ]
     },
     "execution_count": 95,
     "metadata": {},
     "output_type": "execute_result"
    }
   ],
   "source": [
    "production_energie=df_data_nationales[['Fioul','Charbon','Gaz', 'Nucléaire','Eolien', 'Solaire',  'Hydraulique',  'Pompage', 'Bioénergies' ]].mean(axis=1)\n",
    "production_energie"
   ]
  },
  {
   "cell_type": "code",
   "execution_count": 96,
   "id": "be3f83fa-87f0-4dde-aae3-f63edef4656d",
   "metadata": {},
   "outputs": [
    {
     "name": "stdout",
     "output_type": "stream",
     "text": [
      "                     Fioul  Charbon     Gaz  Nucléaire  Eolien  Solaire  \\\n",
      "DateTime                                                                  \n",
      "2012-01-01 00:00:00  492.0     25.0  3816.0    52697.0  3588.0      0.0   \n",
      "2012-01-01 00:15:00    NaN      NaN     NaN        NaN     NaN      NaN   \n",
      "2012-01-01 00:30:00  492.0     25.0  3816.0    52697.0  3588.0      0.0   \n",
      "2012-01-01 00:45:00    NaN      NaN     NaN        NaN     NaN      NaN   \n",
      "2012-01-01 01:00:00  492.0     25.0  3834.0    51747.0  3536.0      0.0   \n",
      "...                    ...      ...     ...        ...     ...      ...   \n",
      "2018-12-31 22:45:00    NaN      NaN     NaN        NaN     NaN      NaN   \n",
      "2018-12-31 23:00:00  146.0     11.0  3910.0    55589.0  1537.0     -2.0   \n",
      "2018-12-31 23:15:00    NaN      NaN     NaN        NaN     NaN      NaN   \n",
      "2018-12-31 23:30:00  146.0     12.0  3452.0    55404.0  1543.0     -2.0   \n",
      "2018-12-31 23:45:00    NaN      NaN     NaN        NaN     NaN      NaN   \n",
      "\n",
      "                     Hydraulique  Pompage  Bioénergies  Ech. physiques  \n",
      "DateTime                                                                \n",
      "2012-01-01 00:00:00       7922.0  -1139.0        719.0         -9806.0  \n",
      "2012-01-01 00:15:00          NaN      NaN          NaN             NaN  \n",
      "2012-01-01 00:30:00       7922.0  -1139.0        719.0         -9806.0  \n",
      "2012-01-01 00:45:00          NaN      NaN          NaN             NaN  \n",
      "2012-01-01 01:00:00       7598.0  -1730.0        721.0         -9993.0  \n",
      "...                          ...      ...          ...             ...  \n",
      "2018-12-31 22:45:00          NaN      NaN          NaN             NaN  \n",
      "2018-12-31 23:00:00       5148.0  -1364.0       1172.0         -2171.0  \n",
      "2018-12-31 23:15:00          NaN      NaN          NaN             NaN  \n",
      "2018-12-31 23:30:00       4688.0  -1474.0       1166.0         -1133.0  \n",
      "2018-12-31 23:45:00          NaN      NaN          NaN             NaN  \n",
      "\n",
      "[245472 rows x 10 columns]\n"
     ]
    }
   ],
   "source": [
    "production = df_data_nationales.drop(['Consommation',], axis=1)\n",
    "print(production)"
   ]
  },
  {
   "cell_type": "code",
   "execution_count": 110,
   "id": "e9262030-2ad4-402c-aabc-3c4665c02b90",
   "metadata": {},
   "outputs": [
    {
     "data": {
      "text/html": [
       "<div>\n",
       "<style scoped>\n",
       "    .dataframe tbody tr th:only-of-type {\n",
       "        vertical-align: middle;\n",
       "    }\n",
       "\n",
       "    .dataframe tbody tr th {\n",
       "        vertical-align: top;\n",
       "    }\n",
       "\n",
       "    .dataframe thead th {\n",
       "        text-align: right;\n",
       "    }\n",
       "</style>\n",
       "<table border=\"1\" class=\"dataframe\">\n",
       "  <thead>\n",
       "    <tr style=\"text-align: right;\">\n",
       "      <th></th>\n",
       "      <th>Fioul</th>\n",
       "      <th>Charbon</th>\n",
       "      <th>Gaz</th>\n",
       "      <th>Nucléaire</th>\n",
       "      <th>Eolien</th>\n",
       "      <th>Solaire</th>\n",
       "      <th>Hydraulique</th>\n",
       "      <th>Pompage</th>\n",
       "      <th>Bioénergies</th>\n",
       "    </tr>\n",
       "    <tr>\n",
       "      <th>DateTime</th>\n",
       "      <th></th>\n",
       "      <th></th>\n",
       "      <th></th>\n",
       "      <th></th>\n",
       "      <th></th>\n",
       "      <th></th>\n",
       "      <th></th>\n",
       "      <th></th>\n",
       "      <th></th>\n",
       "    </tr>\n",
       "  </thead>\n",
       "  <tbody>\n",
       "    <tr>\n",
       "      <th>2012-01-31</th>\n",
       "      <td>600.284274</td>\n",
       "      <td>1033.447581</td>\n",
       "      <td>5477.798387</td>\n",
       "      <td>57495.315188</td>\n",
       "      <td>2130.765457</td>\n",
       "      <td>156.615591</td>\n",
       "      <td>8986.866263</td>\n",
       "      <td>-821.899866</td>\n",
       "      <td>698.395833</td>\n",
       "    </tr>\n",
       "    <tr>\n",
       "      <th>2012-02-29</th>\n",
       "      <td>1487.602730</td>\n",
       "      <td>3672.319684</td>\n",
       "      <td>7160.056034</td>\n",
       "      <td>55535.587644</td>\n",
       "      <td>1610.747126</td>\n",
       "      <td>290.697557</td>\n",
       "      <td>7474.890086</td>\n",
       "      <td>-600.534483</td>\n",
       "      <td>663.914511</td>\n",
       "    </tr>\n",
       "    <tr>\n",
       "      <th>2012-03-31</th>\n",
       "      <td>588.436156</td>\n",
       "      <td>1963.383065</td>\n",
       "      <td>4419.214382</td>\n",
       "      <td>50482.514113</td>\n",
       "      <td>1310.648522</td>\n",
       "      <td>447.295699</td>\n",
       "      <td>5202.025538</td>\n",
       "      <td>-589.243280</td>\n",
       "      <td>726.210349</td>\n",
       "    </tr>\n",
       "    <tr>\n",
       "      <th>2012-04-30</th>\n",
       "      <td>490.039583</td>\n",
       "      <td>2290.597222</td>\n",
       "      <td>1954.073611</td>\n",
       "      <td>45939.453472</td>\n",
       "      <td>2178.555556</td>\n",
       "      <td>426.707639</td>\n",
       "      <td>7306.412500</td>\n",
       "      <td>-713.775694</td>\n",
       "      <td>569.984722</td>\n",
       "    </tr>\n",
       "    <tr>\n",
       "      <th>2012-05-31</th>\n",
       "      <td>353.494624</td>\n",
       "      <td>1147.012097</td>\n",
       "      <td>829.843414</td>\n",
       "      <td>39021.690188</td>\n",
       "      <td>1306.898522</td>\n",
       "      <td>572.397849</td>\n",
       "      <td>10253.005376</td>\n",
       "      <td>-869.159274</td>\n",
       "      <td>634.311156</td>\n",
       "    </tr>\n",
       "  </tbody>\n",
       "</table>\n",
       "</div>"
      ],
      "text/plain": [
       "                  Fioul      Charbon          Gaz     Nucléaire       Eolien  \\\n",
       "DateTime                                                                       \n",
       "2012-01-31   600.284274  1033.447581  5477.798387  57495.315188  2130.765457   \n",
       "2012-02-29  1487.602730  3672.319684  7160.056034  55535.587644  1610.747126   \n",
       "2012-03-31   588.436156  1963.383065  4419.214382  50482.514113  1310.648522   \n",
       "2012-04-30   490.039583  2290.597222  1954.073611  45939.453472  2178.555556   \n",
       "2012-05-31   353.494624  1147.012097   829.843414  39021.690188  1306.898522   \n",
       "\n",
       "               Solaire   Hydraulique     Pompage  Bioénergies  \n",
       "DateTime                                                       \n",
       "2012-01-31  156.615591   8986.866263 -821.899866   698.395833  \n",
       "2012-02-29  290.697557   7474.890086 -600.534483   663.914511  \n",
       "2012-03-31  447.295699   5202.025538 -589.243280   726.210349  \n",
       "2012-04-30  426.707639   7306.412500 -713.775694   569.984722  \n",
       "2012-05-31  572.397849  10253.005376 -869.159274   634.311156  "
      ]
     },
     "execution_count": 110,
     "metadata": {},
     "output_type": "execute_result"
    }
   ],
   "source": [
    "energie= pd.DataFrame(df_data_nationales[['Fioul','Charbon','Gaz', 'Nucléaire','Eolien', 'Solaire',  'Hydraulique',  'Pompage', 'Bioénergies' ]].dropna(axis=0).resample('M').mean())\n",
    "energie.head()"
   ]
  },
  {
   "cell_type": "code",
   "execution_count": 113,
   "id": "13e33b63-8bc6-48c4-94a1-2e1bbef245a1",
   "metadata": {},
   "outputs": [
    {
     "data": {
      "image/png": "[encoded data removed]",
      "text/plain": [
       "<Figure size 1400x800 with 1 Axes>"
      ]
     },
     "metadata": {},
     "output_type": "display_data"
    }
   ],
   "source": [
    "energie = [\n",
    "   \"Fioul\",\n",
    "    \"Charbon\",\n",
    "    \"Gaz\", \n",
    "    \"Nucléaire\",\n",
    "    \"Eolien\", \n",
    "    \"Solaire\", \n",
    "    \"Hydraulique\", \n",
    "    \"Pompage\",\n",
    "    \"Bioénergies\",\n",
    "]\n",
    "\n",
    "# Filtrer le DataFrame pour l'année 2018\n",
    "df_energie = df[energie]\n",
    "\n",
    "# Tracer l'évolution de la production d'énergie\n",
    "plt.figure(figsize=(14, 8))\n",
    "df_energie.plot(ax=plt.gca())\n",
    "plt.title(\"Évolution de la production d'énergie par filière\", fontsize=16)\n",
    "plt.xlabel('Date', fontsize=14)\n",
    "plt.ylabel('Production (MWh)', fontsize=14)\n",
    "plt.legend(title='Filière', bbox_to_anchor=(1.05, 1), loc='upper left')\n",
    "plt.grid(True)\n",
    "plt.show()"
   ]
  },
  {
   "cell_type": "code",
   "execution_count": 112,
   "id": "55c84f97-a98e-43ec-838a-99da5cf2d2a5",
   "metadata": {},
   "outputs": [
    {
     "ename": "AttributeError",
     "evalue": "'list' object has no attribute 'plot'",
     "output_type": "error",
     "traceback": [
      "\u001b[0;31m---------------------------------------------------------------------------\u001b[0m",
      "\u001b[0;31mAttributeError\u001b[0m                            Traceback (most recent call last)",
      "Cell \u001b[0;32mIn[112], line 1\u001b[0m\n\u001b[0;32m----> 1\u001b[0m energie\u001b[38;5;241m.\u001b[39mplot()\n\u001b[1;32m      2\u001b[0m plt\u001b[38;5;241m.\u001b[39mtitle(\u001b[38;5;124m\"\u001b[39m\u001b[38;5;124mEvolution de energie\u001b[39m\u001b[38;5;124m\"\u001b[39m)\n\u001b[1;32m      3\u001b[0m plt\u001b[38;5;241m.\u001b[39mxlabel(\u001b[38;5;124m'\u001b[39m\u001b[38;5;124mmean\u001b[39m\u001b[38;5;124m'\u001b[39m)\n",
      "\u001b[0;31mAttributeError\u001b[0m: 'list' object has no attribute 'plot'"
     ]
    }
   ],
   "source": [
    "energie.plot()\n",
    "plt.title(\"Evolution de energie\")\n",
    "plt.xlabel('mean')\n",
    "plt.ylabel('Temps')\n",
    "plt.show()"
   ]
  },
  {
   "cell_type": "code",
   "execution_count": 103,
   "id": "c69d214b-7177-4318-9a9f-c69dafab004a",
   "metadata": {},
   "outputs": [
    {
     "name": "stdout",
     "output_type": "stream",
     "text": [
      "0: Fioul\n",
      "1: Charbon\n",
      "2: Gaz\n",
      "3: Nucléaire\n",
      "4: Eolien\n",
      "5: Solaire\n",
      "6: Hydraulique\n",
      "7: Pompage\n",
      "8: Bioénergies\n"
     ]
    },
    {
     "data": {
      "image/png": "[encoded data removed]",
      "text/plain": [
       "<Figure size 500x400 with 1 Axes>"
      ]
     },
     "metadata": {},
     "output_type": "display_data"
    }
   ],
   "source": [
    "\n",
    "\n",
    "# Affichage des colonnes pour vérification\n",
    "[print(f\"{i}: {column}\") for i, column in enumerate(df.columns)]\n",
    "\n",
    "# Colonnes d'intérêt\n",
    "production = [\n",
    "   \"Fioul\",\n",
    "    \"Charbon\",\n",
    "    \"Gaz\", \n",
    "    \"Nucléaire\",\n",
    "    \"Eolien\", \n",
    "    \"Solaire\", \n",
    "    \"Hydraulique\", \n",
    "    \"Pompage\",\n",
    "    \"Bioénergies\",\n",
    "]\n",
    "\n",
    "\n",
    "df_production = df[production]\n",
    "\n",
    "# Créer un graphique en secteurs\n",
    "plt.figure(figsize=(5, 4))\n",
    "df_production.sum().plot(\n",
    "    kind=\"pie\",\n",
    "    title=\"Production par filière en mois\",\n",
    "    autopct='%.0f%%',\n",
    "    textprops={'color':\"black\", 'size':10},\n",
    "    colors=['#ff9999','#66b3ff','#99ff99','#ffcc99','#c2c2f0','#ffb3e6', '#c4e17f', '#76D7C4', '#EDBB99']\n",
    ")\n",
    "\n",
    "# Personnaliser la légende\n",
    "plt.legend(bbox_to_anchor=(1.1, 1.05), loc=\"upper left\")\n",
    "#plt.ylabel('')  # Supprimer le label de l'axe y\n",
    "plt.show()"
   ]
  },
  {
   "cell_type": "code",
   "execution_count": 100,
   "id": "92ac6a6a-65a1-4d3e-abd8-c2ff0474654b",
   "metadata": {
    "jupyter": {
     "source_hidden": true
    },
    "scrolled": true
   },
   "outputs": [
    {
     "ename": "SyntaxError",
     "evalue": "'(' was never closed (1575973262.py, line 32)",
     "output_type": "error",
     "traceback": [
      "\u001b[0;36m  Cell \u001b[0;32mIn[100], line 32\u001b[0;36m\u001b[0m\n\u001b[0;31m    plt.ylabel(''\u001b[0m\n\u001b[0m              ^\u001b[0m\n\u001b[0;31mSyntaxError\u001b[0m\u001b[0;31m:\u001b[0m '(' was never closed\n"
     ]
    }
   ],
   "source": [
    "# Choose a year (ex: 2018) and plot the share that each of the different energy sources has in the total energy production:\n",
    "\n",
    "# store the columns of interest in a variable:\n",
    "[print(f\"{i}:{column}\") for i,column in enumerate(df.columns)]\n",
    "production = [\n",
    "   \"Fioul\",\n",
    "    \"Charbon\",\n",
    "    \"Gaz\", \n",
    "    \"Nucléaire\",\n",
    "    \"Eolien\", \n",
    "    \"Solaire\", \n",
    "    \"Hydraulique\", \n",
    "    \"Pompage\",\n",
    "    \"Bioénergies\",\n",
    "]\n",
    "\n",
    "# filter the original dataframe and keep only what's of interest:\n",
    "df_production = df[production].loc[df[production].index.year==2018]\n",
    "\n",
    "# quickly plot the results directly from the Pandas dataframe (very usefull during the data exploration phase!)\n",
    "plt.figure(figsize=(10, 8))\n",
    "df_production.sum().plot(\n",
    "    kind=\"pie\",\n",
    "    title=\"Production par filière : année 2018\",\n",
    "    autopct='%.0f%%',\n",
    "    textprops={'color':\"black\", 'size':12},\n",
    "    colors=['#ff9999','#66b3ff','#99ff99','#ffcc99','#c2c2f0','#ffb3e6', '#c4e17f', '#76D7C4', '#EDBB99']\n",
    ")\n",
    "# further customization (if required) should be carried out via the Pyplot or artist interface of Matplotlib:\n",
    "plt.legend(bbox_to_anchor=(1,1), loc=\"upper left\") # position the legend in the upper right corner of the figure's axes\n",
    "\n",
    "plt.ylabel(''\n",
    "plt.show()"
   ]
  },
  {
   "cell_type": "markdown",
   "id": "318a68d6",
   "metadata": {},
   "source": [
    "Import the relevant pickles into pandas dataframes:"
   ]
  },
  {
   "cell_type": "code",
   "execution_count": null,
   "id": "1992b914-2aab-4b54-a44a-68dd9e6cad38",
   "metadata": {},
   "outputs": [],
   "source": []
  },
  {
   "cell_type": "code",
   "execution_count": null,
   "id": "59ef57f6",
   "metadata": {},
   "outputs": [],
   "source": [
    "#TODO\n",
    "\n",
    "df_eolien_norm     = pd.read_pickle(os.path.join(path_to_pickles, 'df_eolien_norm.pkl'))\n",
    "df_solaire_norm    = pd.read_pickle(os.path.join(path_to_pickles, 'df_solaire_norm.pkl'))\n"
   ]
  },
  {
   "cell_type": "code",
   "execution_count": null,
   "id": "9de011e8-4bc5-4d71-857f-1132149d12ba",
   "metadata": {},
   "outputs": [],
   "source": [
    "df_solaire_norm"
   ]
  },
  {
   "cell_type": "code",
   "execution_count": null,
   "id": "e00c6847",
   "metadata": {
    "scrolled": true
   },
   "outputs": [],
   "source": [
    "df_eolien_norm.head()"
   ]
  },
  {
   "cell_type": "code",
   "execution_count": null,
   "id": "672c8c80-05d8-4f79-9628-e791804d6fc0",
   "metadata": {},
   "outputs": [],
   "source": [
    "mean_eolien=df_eolien_norm[['Bretagne', 'Centre-Val de Loire','Pays-de-la-Loire','Grand-Est','Occitanie']].mean(axis=1)\n",
    "mean_eolien"
   ]
  },
  {
   "cell_type": "code",
   "execution_count": null,
   "id": "8c5056e8-3c7a-42e0-a194-1f42d0a913de",
   "metadata": {},
   "outputs": [],
   "source": [
    "df_mean_eolien=pd.DataFrame(mean_eolien, columns=['mean_eolien'])\n",
    "print(df_mean_eolien)"
   ]
  },
  {
   "cell_type": "code",
   "execution_count": null,
   "id": "1c416fde",
   "metadata": {
    "scrolled": true
   },
   "outputs": [],
   "source": [
    "mean_solaire =df_solaire_norm [['Bretagne', 'Centre-Val de Loire','Pays-de-la-Loire','Grand-Est','Occitanie']].mean(axis=1)\n",
    "mean_solaire.sample(10)"
   ]
  },
  {
   "cell_type": "code",
   "execution_count": null,
   "id": "aac907e0-b0ee-4342-b5a8-532354b2e8e1",
   "metadata": {},
   "outputs": [],
   "source": [
    "df_mean_solaire=pd.DataFrame(mean_solaire, columns=['mean_solaire'])\n",
    "print(df_mean_solaire)"
   ]
  },
  {
   "cell_type": "markdown",
   "id": "f3273f9a",
   "metadata": {},
   "source": [
    "Check missing values with missingno package"
   ]
  },
  {
   "cell_type": "markdown",
   "id": "49cd020a",
   "metadata": {},
   "source": [
    "### Prepare the data"
   ]
  },
  {
   "cell_type": "markdown",
   "id": "732b5086",
   "metadata": {},
   "source": [
    "1. Retreive the information about the evolution of the national energy consumption in France. Keep only the column \"Consommation\" and downsample to hourly data (instead of every 15 min):"
   ]
  },
  {
   "cell_type": "code",
   "execution_count": null,
   "id": "d76c6477-8acf-47fb-9f79-3eea2d5941f3",
   "metadata": {},
   "outputs": [],
   "source": [
    "eolien = pd.DataFrame(df_mean_eolien['mean_eolien'].dropna(axis=0).resample('M').mean())\n",
    "eolien.head()"
   ]
  },
  {
   "cell_type": "code",
   "execution_count": null,
   "id": "57df0ce7-28f1-4b82-80cd-c47e5c9e3a0c",
   "metadata": {},
   "outputs": [],
   "source": [
    "solaire= pd.DataFrame(df_mean_solaire['mean_solaire'].dropna(axis=0).resample('M').mean())\n",
    "solaire.head()"
   ]
  },
  {
   "cell_type": "code",
   "execution_count": null,
   "id": "bd9ef0e4-5493-41d0-b81c-4e6ec4e1d128",
   "metadata": {},
   "outputs": [],
   "source": [
    "#how='inner', left_index=True, right_index=True\n",
    "#TODO\n",
    "merged_D_Norm= pd.merge(solaire, eolien,  how ='inner', left_index=True, right_index=True)\n",
    "print(\"Merged DataFrame:\")\n",
    "print(merged_D_Norm.head())"
   ]
  },
  {
   "cell_type": "markdown",
   "id": "15e71c29",
   "metadata": {},
   "source": [
    "2. Retreive the information about the evolution of the average temperature in France. Average out the temperature over the different regions and resample to hourly data:"
   ]
  },
  {
   "cell_type": "markdown",
   "id": "eb7c156f-c64f-4ab4-a9b4-590105fc0919",
   "metadata": {},
   "source": [
    "3. Merge the two dataframes together\n",
    "\n",
    "Merging our two dataframes makes it easier to handle and save our data. the 'df.merge()' method also ensures each column has the same length (which makes plotting our data suddenly very simple)."
   ]
  },
  {
   "cell_type": "code",
   "execution_count": null,
   "id": "d060ddc8-9824-4d52-9335-15fd39388554",
   "metadata": {},
   "outputs": [],
   "source": [
    "merged_D_Norm.dropna(inplace=True)"
   ]
  },
  {
   "cell_type": "markdown",
   "id": "971903ca",
   "metadata": {},
   "source": [
    "5. Normalize our data (we're trying to show a trend, it is therefore not necessary to use the absolute values)"
   ]
  },
  {
   "cell_type": "code",
   "execution_count": null,
   "id": "f0e1917d",
   "metadata": {
    "scrolled": true
   },
   "outputs": [],
   "source": [
    "merged_D_Norm = merged_D_Norm.apply(lambda x: (x - x.min())/(x.max() - x.min())).copy()"
   ]
  },
  {
   "cell_type": "code",
   "execution_count": null,
   "id": "30188308-0c4d-4fb3-b2b0-bc0e49c6f32c",
   "metadata": {},
   "outputs": [],
   "source": [
    "merged_D_Norm"
   ]
  },
  {
   "cell_type": "code",
   "execution_count": null,
   "id": "3f7f4478",
   "metadata": {},
   "outputs": [],
   "source": [
    "rolling_window = 100\n",
    "merged_D_Norm['smothed_eolien'] = merged_D_Norm.mean_eolien.rolling(rolling_window, center=True).mean()\n",
    "merged_D_Norm['smothed_solaire'] = merged_D_Norm.mean_solaire.rolling(rolling_window, center=True).mean()\n",
    "merged_D_Norm.head(100)"
   ]
  },
  {
   "cell_type": "code",
   "execution_count": null,
   "id": "dcf15835-2160-4a6d-a4d0-d720ed5f9dfd",
   "metadata": {},
   "outputs": [],
   "source": [
    "merged_D_Norm.plot()\n",
    "plt.title(\"Evolution de la production du solaire et eolien par mois\")\n",
    "plt.xlabel('mean')\n",
    "plt.ylabel('Temps')\n",
    "plt.show()"
   ]
  },
  {
   "cell_type": "code",
   "execution_count": null,
   "id": "5d8153f9-7c8d-40b5-bebc-f58747c5f2d5",
   "metadata": {},
   "outputs": [],
   "source": [
    "\n",
    "font = {\n",
    "    'family': \"Courier New\",\n",
    "    'size': {\n",
    "        'small': 12,\n",
    "        'medium': 16,\n",
    "        'big': 20\n",
    "        },\n",
    "    'color': {\n",
    "        'axes': 'rgb(180, 180, 180)',\n",
    "        'primary': 'lightcoral',\n",
    "        'secondary': 'lightsteelblue',\n",
    "        'highlight': 'sandybrown'\n",
    "    },\n",
    "    'line width': 2\n",
    "}\n",
    "# Créer un histogramme pour 'mean_eolien' de df1 et 'df_solaire' de df2\n",
    "plt.figure(figsize=(10, 6))\n",
    "\n",
    "plt.hist(eolien['mean_eolien'], bins=10, alpha=0.7, color=font['color']['primary'], label='Mean Eolien', edgecolor='black')\n",
    "plt.hist(solaire['mean_solaire'], bins=10, alpha=0.7, color=font['color']['secondary'], label='Mean Solaire', edgecolor='black')\n",
    "\n",
    "# Ajouter des titres et labels\n",
    "plt.title('Histogramme de Mean Eolien et DF Solaire')\n",
    "plt.xlabel('Valeurs', fontsize=font['size']['small'])\n",
    "plt.ylabel('Fréquence', fontsize=font['size']['small'])\n",
    "\n",
    "# Ajouter une légende\n",
    "plt.legend()\n",
    "\n",
    "# Ajouter une grille\n",
    "plt.grid(True, linewidth=font['line width'])\n",
    "\n",
    "# Afficher le graphique\n",
    "plt.show()"
   ]
  },
  {
   "cell_type": "code",
   "execution_count": null,
   "id": "749024a4-04e8-411f-9b37-580a78377a3a",
   "metadata": {},
   "outputs": [],
   "source": [
    "plt.figure(figsize=(10, 6))\n",
    "plt.hist(merged_D_Norm['mean_eolien'], bins=10, alpha=0.7, color='blue', label='Eolien')\n",
    "plt.hist(merged_D_Norm['mean_solaire'], bins=10, alpha=0.7, color='red', label='Solaire')\n",
    "plt.title(\"Evolution de la production du solaire et eolien par mois\")\n",
    "plt.xlabel('mean')\n",
    "plt.ylabel('Temps')\n",
    "plt.show()"
   ]
  },
  {
   "cell_type": "code",
   "execution_count": null,
   "id": "4643c129",
   "metadata": {},
   "outputs": [],
   "source": [
    "merged_D_Norm.dropna(inplace=True)"
   ]
  },
  {
   "cell_type": "markdown",
   "id": "f4684674",
   "metadata": {},
   "source": [
    "7. write the dataframe to a folder data_processed in notebook_guide"
   ]
  },
  {
   "cell_type": "code",
   "execution_count": null,
   "id": "8a3ef978",
   "metadata": {},
   "outputs": [],
   "source": [
    "ROOT = '.'\n",
    "folder = 'data_processed'\n",
    "fp = os.path.join(ROOT, folder) # fp is folderpath\n",
    "\n",
    "if not os.path.exists(fp):\n",
    "    os.mkdir(fp)\n",
    "\n",
    "filename = \"consumption_vs_temperature.pkl\"\n",
    "fpath_data = os.path.join(fp, filename)\n",
    "merged_D_Norm.to_pickle(fpath_data)"
   ]
  },
  {
   "cell_type": "markdown",
   "id": "ed3f67aa",
   "metadata": {},
   "source": [
    "8. Make a standard plot of the dataframe"
   ]
  },
  {
   "cell_type": "code",
   "execution_count": null,
   "id": "66e91d12",
   "metadata": {},
   "outputs": [],
   "source": []
  },
  {
   "cell_type": "markdown",
   "id": "88d47229",
   "metadata": {},
   "source": [
    "... hum, well... that looks... ... lets use to plotly to make this figure look nice and add some interactivity!"
   ]
  },
  {
   "cell_type": "markdown",
   "id": "af70b0bb",
   "metadata": {},
   "source": [
    "# Plotting with plotly"
   ]
  },
  {
   "cell_type": "markdown",
   "id": "ba98c41d",
   "metadata": {},
   "source": [
    "## Setup before plotting"
   ]
  },
  {
   "cell_type": "markdown",
   "id": "751712bf",
   "metadata": {},
   "source": [
    "Create a font dictionnary that will help you styling your figures"
   ]
  },
  {
   "cell_type": "markdown",
   "id": "8ffa331e",
   "metadata": {},
   "source": [
    "Note: There are a lot of named CSS colors you can pick from to customize your graph, but rememebr: don't pick too many! Three different colors is usually more than enough.  \n",
    "FYI, these are the colors, play around with them (also check out https://developer.mozilla.org/en-US/docs/Web/CSS/named-color to visualise the colors):\n",
    "\n",
    "*aliceblue, antiquewhite, aqua, aquamarine, azure,\n",
    "beige, bisque, black, blanchedalmond, blue,\n",
    "blueviolet, brown, burlywood, cadetblue,\n",
    "chartreuse, chocolate, coral, cornflowerblue,\n",
    "cornsilk, crimson, cyan, darkblue, darkcyan,\n",
    "darkgoldenrod, darkgray, darkgrey, darkgreen,\n",
    "darkkhaki, darkmagenta, darkolivegreen, darkorange,\n",
    "darkorchid, darkred, darksalmon, darkseagreen,\n",
    "darkslateblue, darkslategray, darkslategrey,\n",
    "darkturquoise, darkviolet, deeppink, deepskyblue,\n",
    "dimgray, dimgrey, dodgerblue, firebrick,\n",
    "floralwhite, forestgreen, fuchsia, gainsboro,\n",
    "ghostwhite, gold, goldenrod, gray, grey, green,\n",
    "greenyellow, honeydew, hotpink, indianred, indigo,\n",
    "ivory, khaki, lavender, lavenderblush, lawngreen,\n",
    "lemonchiffon, lightblue, lightcoral, lightcyan,\n",
    "lightgoldenrodyellow, lightgray, lightgrey,\n",
    "lightgreen, lightpink, lightsalmon, lightseagreen,\n",
    "lightskyblue, lightslategray, lightslategrey,\n",
    "lightsteelblue, lightyellow, lime, limegreen,\n",
    "linen, magenta, maroon, mediumaquamarine,\n",
    "mediumblue, mediumorchid, mediumpurple,\n",
    "mediumseagreen, mediumslateblue, mediumspringgreen,\n",
    "mediumturquoise, mediumvioletred, midnightblue,\n",
    "mintcream, mistyrose, moccasin, navajowhite, navy,\n",
    "oldlace, olive, olivedrab, orange, orangered,\n",
    "orchid, palegoldenrod, palegreen, paleturquoise,\n",
    "palevioletred, papayawhip, peachpuff, peru, pink,\n",
    "plum, powderblue, purple, red, rosybrown,\n",
    "royalblue, rebeccapurple, saddlebrown, salmon,\n",
    "sandybrown, seagreen, seashell, sienna, silver,\n",
    "skyblue, slateblue, slategray, slategrey, snow,\n",
    "springgreen, steelblue, tan, teal, thistle, tomato,\n",
    "turquoise, violet, wheat, white, whitesmoke,\n",
    "yellow, yellowgreen*"
   ]
  },
  {
   "cell_type": "markdown",
   "id": "ad0176e1-53f2-4d09-9338-8f0e7a37979d",
   "metadata": {},
   "source": [
    "#Mix énergétique en France \n",
    "##Quelle situation, quelle évolution ?"
   ]
  },
  {
   "cell_type": "code",
   "execution_count": null,
   "id": "8b413f7e-b07a-44c2-9ab6-5fccc2574b1a",
   "metadata": {},
   "outputs": [],
   "source": [
    "df_data_nationales = pd.read_pickle(os.path.join(path_to_pickles, 'df_data_nationales.pkl'))"
   ]
  },
  {
   "cell_type": "markdown",
   "id": "185cb9ac",
   "metadata": {},
   "source": [
    "Once you settled on your styles, you can export this \"style dictionnary\" (for example as **style.json**) so it can be reused elsewhere in your project (or even in different projects). This will help you ensure style consistency throughout your plotting projects."
   ]
  },
  {
   "cell_type": "markdown",
   "id": "37b989d4",
   "metadata": {},
   "source": [
    "1. Write the font dictionnary to a json file in a css folder in notebook_guide"
   ]
  },
  {
   "cell_type": "code",
   "execution_count": null,
   "id": "08dfff85",
   "metadata": {},
   "outputs": [],
   "source": [
    "import json\n",
    "\n",
    "ROOT = '.'\n",
    "path_css = os.path.join(ROOT, 'static')\n",
    "\n",
    "if not os.path.exists(path_css):\n",
    "    os.mkdir(path_css)\n",
    "\n",
    "filename = \"style.json\"\n",
    "fpath_styling = os.path.join(path_css, filename)\n",
    "\n",
    "with open(fpath_styling, 'w') as file:\n",
    "    file.write(json.dumps(font, indent=4, sort_keys=True))"
   ]
  },
  {
   "cell_type": "markdown",
   "id": "75f84a55",
   "metadata": {},
   "source": [
    "2. Create a simple function that adds lineplots to a figure (in plotly these are called \"traces\"). The purpose of this function is to allow you to easily add extra 'traces' (for example lines) to your figure"
   ]
  },
  {
   "cell_type": "code",
   "execution_count": null,
   "id": "486d0a45",
   "metadata": {},
   "outputs": [],
   "source": [
    "def add_data_to_figure(fig, x, y, label=\"no label\", color=\"red\", line_width=1, opacity=1):\n",
    "    \n",
    "    fig.add_trace(\n",
    "        go.Scatter(\n",
    "            x=x, y=y, \n",
    "            mode='lines+markers', # try only lines and you'll see that lasso and box select dissapear when there are too many datapoints\n",
    "            name=label,\n",
    "            line=dict(color=color, width=line_width),\n",
    "            connectgaps=True,\n",
    "            opacity=opacity\n",
    "    ))\n",
    "\n",
    "    return fig"
   ]
  },
  {
   "cell_type": "markdown",
   "id": "ae761202",
   "metadata": {},
   "source": [
    "## Creating the actual figure"
   ]
  },
  {
   "cell_type": "markdown",
   "id": "9ee3e9f1",
   "metadata": {},
   "source": [
    "1. Load the font dict"
   ]
  },
  {
   "cell_type": "code",
   "execution_count": null,
   "id": "c0c0ede7",
   "metadata": {},
   "outputs": [],
   "source": [
    "with open(fpath_styling, 'r') as file:\n",
    "    font = json.load(file)\n",
    "    print(json.dumps(font, indent=4,))"
   ]
  },
  {
   "cell_type": "markdown",
   "id": "e6403546",
   "metadata": {},
   "source": [
    "2. Load the pre-processed data"
   ]
  },
  {
   "cell_type": "code",
   "execution_count": null,
   "id": "3d9b4428",
   "metadata": {},
   "outputs": [],
   "source": [
    "df = pd.read_pickle(fpath_data)\n",
    "df.head()"
   ]
  },
  {
   "cell_type": "markdown",
   "id": "622738c8",
   "metadata": {},
   "source": [
    "3. Choose the data you want to plot and _how_ you want to plot it"
   ]
  },
  {
   "cell_type": "code",
   "execution_count": null,
   "id": "43db8a93",
   "metadata": {},
   "outputs": [],
   "source": [
    "x = df.index\n",
    "\n",
    "# trace 1: average temperature\n",
    "y1 = df.avg_temperature\n",
    "label = 'Average temperature'\n",
    "color = font['color']['primary']\n",
    "lw = font['line width']\n",
    "opacity = 0.2\n",
    "plot_args1 = (x, y1, label, color, lw, opacity)\n",
    "\n",
    "# trace 2: energy consumption\n",
    "y2 = df.Consommation\n",
    "label = 'Energy consumption'\n",
    "color = font['color']['secondary']\n",
    "lw = font['line width']\n",
    "opacity = 0.2\n",
    "plot_args2 = (x, y2, label, color, lw, opacity)"
   ]
  },
  {
   "cell_type": "markdown",
   "id": "9dd353b6",
   "metadata": {},
   "source": [
    "4. Create a new figure and add the traces to it"
   ]
  },
  {
   "cell_type": "code",
   "execution_count": null,
   "id": "6b0ac568",
   "metadata": {},
   "outputs": [],
   "source": [
    "import plotly.graph_objects as go\n",
    "\n",
    "fig = go.FigureWidget()\n",
    "\n",
    "add_data_to_figure(fig, *plot_args1)\n",
    "add_data_to_figure(fig, *plot_args2)\n",
    "\n",
    "fig.show()"
   ]
  },
  {
   "cell_type": "markdown",
   "id": "a5ad3d6a-a7d7-49f4-b97a-b82821ed21f8",
   "metadata": {},
   "source": [
    "...hum ... well, at least it's interactive now!"
   ]
  },
  {
   "cell_type": "markdown",
   "id": "0cdc5297",
   "metadata": {},
   "source": [
    "Let's add even more traces:"
   ]
  },
  {
   "cell_type": "code",
   "execution_count": null,
   "id": "60529a47",
   "metadata": {},
   "outputs": [],
   "source": [
    "# trace 3: average temperature - smoothed\n",
    "y3 = df.smothed_avg_temp\n",
    "label = 'temp - smoothed'\n",
    "color = font['color']['primary']\n",
    "lw = font['line width'] + 0.5\n",
    "plot_args3 = (x, y3, label, color, lw)\n",
    "\n",
    "# trace 4: energy consumption - smoothed\n",
    "y4 = df.smothed_conso\n",
    "label = \"conso - smoothed\"\n",
    "color = font['color']['secondary']\n",
    "lw = font['line width'] + 0.5\n",
    "plot_args4 = (x, y4, label, color, lw)\n",
    "\n",
    "\n",
    "add_data_to_figure(fig, *plot_args3)\n",
    "add_data_to_figure(fig, *plot_args4)\n",
    "\n",
    "\n",
    "fig.show()"
   ]
  },
  {
   "cell_type": "markdown",
   "id": "f75f6ce5-9e0e-4fc0-a6f1-eb7812f49147",
   "metadata": {},
   "source": [
    "After having dialed back the \"raw data\" it already looks a lot less crowded. Again, we're just interested in the general trends here."
   ]
  },
  {
   "cell_type": "markdown",
   "id": "955cc8f9",
   "metadata": {},
   "source": [
    "Now we'll add some annotations to the figure:\n",
    "\n",
    "https://plotly.com/python/text-and-annotations/"
   ]
  },
  {
   "cell_type": "markdown",
   "id": "b2295436-8b9f-495c-bd6b-2f5ce66c9067",
   "metadata": {},
   "source": [
    "Let's check the default font sizes that we've set earlier:"
   ]
  },
  {
   "cell_type": "code",
   "execution_count": null,
   "id": "60e7baf0",
   "metadata": {},
   "outputs": [],
   "source": [
    "font['size']"
   ]
  },
  {
   "cell_type": "code",
   "execution_count": null,
   "id": "9eaa429c",
   "metadata": {},
   "outputs": [],
   "source": [
    "text = {\n",
    "    'title': \"When the temperature drops, the energy consumption rises.\",\n",
    "    'source': \"RTE france (normalised data)\"\n",
    "}\n",
    "\n",
    "\n",
    "annotations = []\n",
    "\n",
    "# add a title (used to describe the figure)\n",
    "annotations.append(dict(xref='paper', yref='paper',\n",
    "                        x=0.5, y=1.10,\n",
    "                        xanchor='center', yanchor='bottom',\n",
    "                        text=text[\"title\"],\n",
    "                        font=dict(family=font[\"family\"],\n",
    "                                  size=font[\"size\"][\"big\"],\n",
    "                                  color=font[\"color\"]['axes']),\n",
    "                        showarrow=False))\n",
    "\n",
    "\n",
    "# add text at the bottom of the figure\n",
    "annotations.append(dict(xref='paper', yref='paper',\n",
    "                        x=0.5, y=-0.2,\n",
    "                        xanchor='center', yanchor='top',\n",
    "                        text=text[\"source\"],\n",
    "                        font=dict(family=font[\"family\"],\n",
    "                                  size=font[\"size\"][\"small\"],\n",
    "                                  color=font[\"color\"]['axes']),\n",
    "                        showarrow=False))\n",
    "\n",
    "\n",
    "fig.update_layout(annotations=annotations)"
   ]
  },
  {
   "cell_type": "markdown",
   "id": "98e9ef54",
   "metadata": {},
   "source": [
    "What do we want?! **MORE ANNOTATIONS !!**  \n",
    "Wen do we want them?! **NOOOOOW !!!**"
   ]
  },
  {
   "cell_type": "code",
   "execution_count": null,
   "id": "865ee0da",
   "metadata": {},
   "outputs": [],
   "source": [
    "# Adding labels to the traces (directly on the plot)\n",
    "x, y, label, color, _ = plot_args3\n",
    "annotations.append(dict(xref='x', yref='y',\n",
    "                        x=x[-1] + pd.offsets.Day(20),\n",
    "                        y=y.iloc[-1],\n",
    "                        xanchor='left', yanchor='middle',\n",
    "                        text=\"Average Temperature\",\n",
    "                        font=dict(family=font[\"family\"],\n",
    "                                  size=font[\"size\"][\"medium\"],\n",
    "                                  color=color),\n",
    "                        showarrow=False))\n",
    "\n",
    "\n",
    "x, y, label, color, _ = plot_args4\n",
    "annotations.append(dict(xref='x', yref='y',\n",
    "                        x=x[-1] + pd.offsets.Day(20),\n",
    "                        y=y.iloc[-1],\n",
    "                        xanchor='left', yanchor='middle',\n",
    "                        text=\"Energy consumption\",                        \n",
    "                        font=dict(family=font[\"family\"],\n",
    "                                  size=font[\"size\"][\"medium\"],\n",
    "                                  color=color),\n",
    "                        showarrow=False))\n",
    "\n",
    "\n",
    "fig.update_layout(annotations=annotations)"
   ]
  },
  {
   "cell_type": "markdown",
   "id": "c0744986",
   "metadata": {},
   "source": [
    "Now make the figure beautiful _(this can take a lot of time, but once it's done it's done!)_:"
   ]
  },
  {
   "cell_type": "code",
   "execution_count": null,
   "id": "36a6a0e9",
   "metadata": {},
   "outputs": [],
   "source": [
    "import datetime\n",
    "\n",
    "fig.update_layout(\n",
    "    \n",
    "    # customize x-axis\n",
    "    xaxis_range=[datetime.datetime(2013, 1, 1),\n",
    "                 datetime.datetime(2019, 1, 1)],\n",
    "    xaxis=dict(\n",
    "        type=\"date\",\n",
    "        tick0=\"2013-01-01\", # first tick\n",
    "        dtick=\"M12\", # interval between each tick following 'tick0' (1 year, ie 12 months)\n",
    "        tickformat=\"| %Y |\",\n",
    "        tickvals=list(range(2013, 2019)),\n",
    "        showline=True,\n",
    "        showgrid=False,\n",
    "        showticklabels=True,\n",
    "        linecolor=font[\"color\"]['axes'],\n",
    "        linewidth=2,\n",
    "        ticks='outside',\n",
    "        tickfont=dict(\n",
    "            family=font[\"family\"] + \" Bold\",\n",
    "            size=font[\"size\"][\"medium\"],\n",
    "            color=font[\"color\"]['highlight'],\n",
    "        ),\n",
    "    ),\n",
    "    \n",
    "    # customize x and y-axis\n",
    "    yaxis=dict(\n",
    "        showgrid=False,\n",
    "        zeroline=False,\n",
    "        showline=False,\n",
    "        showticklabels=False,\n",
    "    ),\n",
    "    \n",
    "    # figure size\n",
    "    autosize=False,\n",
    "    width=1500,\n",
    "    height=500,\n",
    "    \n",
    "    margin=dict(\n",
    "        autoexpand=True,\n",
    "        l=0,\n",
    "        r=110,\n",
    "        t=110,\n",
    "        b=110,\n",
    "        \n",
    "    ),\n",
    "\n",
    "    \n",
    "    # disable the legend\n",
    "    showlegend=False,\n",
    "    \n",
    "    # change the backgroud color\n",
    "    plot_bgcolor='white'\n",
    ")"
   ]
  },
  {
   "cell_type": "code",
   "execution_count": null,
   "id": "ae2ded2b-c6e2-4483-b5ff-5a281ef2ebfb",
   "metadata": {},
   "outputs": [],
   "source": []
  }
 ],
 "metadata": {
  "kernelspec": {
   "display_name": "Python 3 (ipykernel)",
   "language": "python",
   "name": "python3"
  },
  "language_info": {
   "codemirror_mode": {
    "name": "ipython",
    "version": 3
   },
   "file_extension": ".py",
   "mimetype": "text/x-python",
   "name": "python",
   "nbconvert_exporter": "python",
   "pygments_lexer": "ipython3",
   "version": "3.11.7"
  }
 },
 "nbformat": 4,
 "nbformat_minor": 5
}
