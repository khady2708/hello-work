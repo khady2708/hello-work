{
 "cells": [
  {
   "cell_type": "markdown",
   "metadata": {},
   "source": [
    "# Les bases\n",
    "\n",
    "## Importation de Matplotlib\n",
    "\n",
    "Comme certaines des autres librairies que vous avez déjà commencé à utiliser, il existe une convention pour importer la librairie matplotlib (et aussi pour importer son module \"pyplot\"):"
   ]
  },
  {
   "cell_type": "code",
   "execution_count": 2,
   "metadata": {
    "tags": []
   },
   "outputs": [],
   "source": [
    "# Convention d'importation de Matplotlib et de Pyplot\n",
    "import matplotlib as mpl # <-- 'mpl' est un alias de 'matplotlib'\n",
    "import matplotlib.pyplot as plt # <-- autre convention pour 'pyplot'\n",
    "\n",
    "# Une autre convention que vous avez sûrement déjà rencontré:\n",
    "import numpy as np"
   ]
  },
  {
   "cell_type": "code",
   "execution_count": 4,
   "metadata": {
    "tags": []
   },
   "outputs": [
    {
     "data": {
      "image/png": "[encoded data removed]",
      "text/plain": [
       "<Figure size 640x480 with 1 Axes>"
      ]
     },
     "metadata": {},
     "output_type": "display_data"
    }
   ],
   "source": [
    "# Realisez un premier graphique:\n",
    "x = np.random.randn(15).cumsum() # génèration d'une suite de nombres aléatoires\n",
    "plt.plot(x) # pour représenter ces nombres, tout simplement!\n",
    "\n",
    "plt.show()"
   ]
  },
  {
   "cell_type": "markdown",
   "metadata": {},
   "source": [
    "## La structure d'une figure\n",
    "\n",
    "Il est important (et très utile) de bien comprendre comment se structure une figure générée avec matplotlib. \n",
    "\n",
    "![struct](https://res.cloudinary.com/practicaldev/image/fetch/s--dNi3F76s--/c_limit%2Cf_auto%2Cfl_progressive%2Cq_auto%2Cw_880/https://thepracticaldev.s3.amazonaws.com/i/rr39m52m6peef1drke7m.png)\n",
    "\n",
    "Trois notions de base sont à retenir:\n",
    "- la `figure` : votre canevas sur lequel vous allez \"dessiner\"  \n",
    "- les `axes` : un espace du canevas pour représenter vos données \n",
    "- les `axis` : les axes x et y de la courbe... à ne pas confondre avec le `axes` précédent!\n",
    "\n",
    "Un graphique est composé de plusieurs éléments :  \n",
    "![vocab](https://res.cloudinary.com/practicaldev/image/fetch/s--1x1epD95--/c_limit%2Cf_auto%2Cfl_progressive%2Cq_auto%2Cw_880/https://thepracticaldev.s3.amazonaws.com/i/b9psb0mtz7yk8qmfe26f.png)\n",
    "\n",
    "Il est possible d'intéragir avec Matplotlib de 3 manières différentes. En effet, il est possible de passer par:\n",
    "\n",
    "- la \"Backend layer\", pour générer le rendu graphique de votre code ;\n",
    "- l' \"Artist layer\", pour personnaliser l'ensemble des éléments composant la figure ;\n",
    "- la \"Scripting layer\", qui est une interface  de définition \"simplifiée\" des éléments d'un plot.\n",
    "\n",
    "![archi](img/mpl-layers.png)\n",
    "\n",
    "**Pour créer vos figures avec Matplotlib, vous allez la plupart du temps passer par une des deux méthodes suivantes selon le niveau de personnalisation souhaité** :\n",
    "\n",
    "- l'interface simplifiée (scripting layer), à l'aide `pyplot` _(qui se rapproche de Matlab pour ceux qui connaissent)_.\n",
    "- l'interface orientée objet (Artist layer), qui permet d'avoir une meilleure granularité permetant de personnaliser ses courbes et de créer des graphiques avancés.\n"
   ]
  },
  {
   "cell_type": "markdown",
   "metadata": {},
   "source": [
    "  "
   ]
  },
  {
   "cell_type": "markdown",
   "metadata": {},
   "source": [
    "# Plotter à l'aide de l'interface PyPlot"
   ]
  },
  {
   "cell_type": "markdown",
   "metadata": {},
   "source": [
    "## Exercice 01 - Tracer une courbe\n",
    "\n",
    "Utiliser `pyplot` pour créer un graphique qui ressemble à la figure ci dessous:\n",
    "\n",
    "![exo1](img/ex1.png)\n",
    "\n",
    "\n",
    "**Attention l'objectif n'est pas de reproduire la courbe, mais de mettre en place tous les composants et le style.**"
   ]
  },
  {
   "cell_type": "code",
   "execution_count": null,
   "metadata": {
    "tags": []
   },
   "outputs": [],
   "source": [
    "# Exercice 01 - Help \n",
    "\n",
    "# voici la variable à plotter\n",
    "y = np.random.randn(30).cumsum()\n",
    "\n",
    "# la taille de la figure est (14,6)\n",
    "# la couleur de la ligne a le code RGB : #5445BA\n",
    "# Pour le titre la font size est 18, font weight est \"bold\"\n",
    "# Les labels des ticks sont en rotation de 90 degrées.\n",
    "\n",
    "# À vous de jouer! Voici les étapes que vous pouvez suivre pour recréer la figure:\n",
    "\n",
    "\n",
    "# Creation de la liste d'années (les abscisses):\n",
    "\n",
    "\n",
    "\n",
    "# Création de la figure et tracé de la courbe:\n",
    "\n",
    "\n",
    "\n",
    "# Mise en forme du graphique (labels, titre, ticks):\n",
    "\n",
    "\n",
    "\n",
    "\n",
    "\n",
    "\n",
    "# Affichage de la courbe:\n",
    "plt.show()"
   ]
  },
  {
   "cell_type": "markdown",
   "metadata": {},
   "source": [
    "## Exercice 02 - Tracer un histogramme\n",
    "\n",
    "A l'aide de la fonction `plt.hist()` tracez un histogramme qui resemble (dans sa structure) à l'image suivante.\n",
    "\n",
    "![exo2](img/ex2.png)"
   ]
  },
  {
   "cell_type": "code",
   "execution_count": null,
   "metadata": {
    "scrolled": true,
    "tags": []
   },
   "outputs": [],
   "source": [
    "# Exercice 02 - help\n",
    "\n",
    "# Créer une distribution de 10 000 valeurs suivant une loie normale centrée sur mu=30 avec un écart-type de sigma=10 \n",
    "mu, sigma = 30, 10\n",
    "x = # compléter (inspirez-vous de la librairie numpy)\n",
    "\n",
    "# figsize=(9,6)\n",
    "# histogramme avec 40 bins\n",
    "# Ne pas oublier le ylabel, la légende et le titre!\n",
    "\n",
    "\n",
    "\n",
    "\n",
    "\n",
    "\n",
    "\n",
    "\n",
    "\n",
    "# Affichage de la courbe:\n",
    "plt.show()"
   ]
  },
  {
   "cell_type": "markdown",
   "metadata": {},
   "source": [
    "# Interlude : styles et paramètres"
   ]
  },
  {
   "cell_type": "markdown",
   "metadata": {},
   "source": [
    "## Exercice 03 - Essayez d'autres styles\n",
    "\n",
    "Il existe plusieurs styles graphiques qui vont changer l'aspect de vos figures. Vous retrouvez ces styles dans l'attribut `plt.style.available`.  \n",
    "\n",
    "Essayez différents styles backend et observez les résultats sur la cellule ci-dessous. \n",
    "\n",
    "Voici un exemple de rendu avec le style `seaborn` :\n",
    "\n",
    "![exo3](img/ex3.png)\n",
    "\n",
    "Un des principes de la visualisation est *less is more*. **Quel style vous semble rendre le graphique moins chargé,  donc plus lisible ?**"
   ]
  },
  {
   "cell_type": "code",
   "execution_count": null,
   "metadata": {
    "tags": []
   },
   "outputs": [],
   "source": [
    "# Quels sont les styles disponibles ?"
   ]
  },
  {
   "cell_type": "code",
   "execution_count": null,
   "metadata": {
    "tags": []
   },
   "outputs": [],
   "source": [
    "# Changez le style !\n",
    "\n",
    "# Style playing\n",
    "plt.figure(figsize=(14,6))\n",
    "\n",
    "plt.plot(np.random.randn(100).cumsum(), label=\"x\")\n",
    "plt.plot(np.random.randn(100).cumsum(), label=\"y\")\n",
    "plt.plot(np.random.randn(100).cumsum(), label=\"z\")\n",
    "plt.title(\"Checking styles\")\n",
    "\n",
    "plt.legend()\n",
    "plt.show()"
   ]
  },
  {
   "cell_type": "markdown",
   "metadata": {},
   "source": [
    "## Exercice 04: Changez les paramètres \n",
    "\n",
    "Matplotlib propose un ensemble de paramètres par défaut qui sont bien pratiques, mais souvent on se retrouve à répéter régulièrement une instruction. \n",
    "\n",
    "Le cas typique est la taille par défaut d'une figure. Lorsque nous sommes sur notre notebook nous avons regulièrement besoin d'une figure de plus grand taille.\n",
    "\n",
    "Les paramètres sont stockés dans un `dict()`, ce dictionnaire est l'attribut `rcParams` de `plt`.\n",
    "\n",
    "- Explorez rapidement ce dictionnaire.\n",
    "- Changez le paramètre de la taille de figure par défaut afin d'obtenir un aspect qui vous convient.  \n",
    "- Nous allons par la suite utiliser le style seaborn, mais le background attire trop l'oeil. Changez l'attribut `facecolor`. Comme par exemple la couleur RGB `#f2f2f2` ou alors `#f1f3f9`.\n",
    "\n",
    "Voici un exemple de ce que cela peut donner:\n",
    "\n",
    "![exo4](img/ex4.png)"
   ]
  },
  {
   "cell_type": "code",
   "execution_count": null,
   "metadata": {
    "tags": []
   },
   "outputs": [],
   "source": [
    "# Changez les paramètres 'par défaut' évoqués ci-dessus:\n"
   ]
  },
  {
   "cell_type": "code",
   "execution_count": null,
   "metadata": {
    "tags": []
   },
   "outputs": [],
   "source": [
    "# Vérifiez que les changements que vous avez éffectués ont bien été pris en compte:\n",
    "ax = plt.figure()\n",
    "\n",
    "plt.plot(np.random.randn(100).cumsum(), label=\"x\")\n",
    "plt.plot(np.random.randn(100).cumsum(), label=\"y\")\n",
    "plt.plot(np.random.randn(100).cumsum(), label=\"z\")\n",
    "plt.title(\"Checking parameters\")\n",
    "print(ax)\n",
    "plt.legend()\n",
    "plt.show()"
   ]
  },
  {
   "cell_type": "markdown",
   "metadata": {},
   "source": [
    "# Plotter avec l'interface Artist.\n",
    "\n",
    "`pyplot` est une interface qui permet de travailler sur des cas de visualisation faciles. \n",
    "Mais dès que nous souhaitons aller plus loin, l'interface trouve ses limites.\n",
    "\n",
    "Le cas le plus courant est lorsque nous souhaitons tracer plusieurs graphiques (a.k.a. `axes`) dans le même canevas (a.k.a. `figure`).\n",
    "\n",
    "Pour tracer des subplots, nous devons travailler directement avec les objets de la classe `Figure` et `Axes`... c'est à dire sur les objets de la couche *Artist*. \n",
    "\n",
    "Voici un exemple :\n",
    "\n",
    "```python\n",
    "    fig = plt.figure() # créer un objet de type Figure (canevas)\n",
    "    ax = fig.add_subplot(nrows, ncols, plot_number) # créer des objets de type 'Axes' supplémentaires\n",
    "```\n",
    "\n",
    "- `nrows` et `ncols` decoupe la figure en (`nrows` \\* `ncols`) sub-axes,  \n",
    "- `plot_number` est l'identifiant d'un plot particulier. \n",
    "\n",
    "**Remarque** `plot_number` commence à 1, et fini à `nrows` \\* `ncols` \n",
    "\n",
    "L'image suivante devrait vous aider à comprendre la logique des subplots :\n",
    "\n",
    "![subplots](img/subplots.png \"source: IBM\")"
   ]
  },
  {
   "cell_type": "markdown",
   "metadata": {
    "tags": []
   },
   "source": [
    "## Exercice 05: Tracer des subplots\n",
    "\n",
    "Reproduisez (avec exactitude) la figure suivante:\n",
    "\n",
    "![exo5](img/ex5.png)\n",
    "\n",
    "Quelques pistes :\n",
    "\n",
    "- Il s'agit d'une grille 2x2\n",
    "- Pour le texte sur le 4ème \"axes\" vous pouvez explorer la fonction `text` qui se trouve dans l'objet du type `Axes`.\n",
    "- La couleur du texte est `green`\n",
    "\n",
    "https://matplotlib.org/stable/gallery/pyplots/text_commands.html"
   ]
  },
  {
   "cell_type": "code",
   "execution_count": null,
   "metadata": {
    "tags": []
   },
   "outputs": [],
   "source": [
    "# TODO Exercise 05: Tracer des subplots\n"
   ]
  },
  {
   "cell_type": "markdown",
   "metadata": {},
   "source": [
    "## Exercice 06: de la couche 'Pyplot' à 'Artist'\n",
    "\n",
    "Traduisez le code suivant vers l'interface objet 'Artist' de matplotlib"
   ]
  },
  {
   "cell_type": "code",
   "execution_count": null,
   "metadata": {
    "tags": []
   },
   "outputs": [],
   "source": [
    "x = np.arange(30)\n",
    "y = np.arange(30) + 3*np.random.randn(30)\n",
    "\n",
    "plt.scatter(x , y , color=\"orangered\", s=20*x)\n",
    "\n",
    "plt.title(\"Scatter plot\", fontsize=18, fontweight=\"bold\")\n",
    "plt.xlabel(\"Values of X\", fontweight=\"bold\")\n",
    "plt.ylabel(\"Values of Y\", fontweight=\"bold\")\n",
    "plt.xticks(x, labels=x + 1990, rotation=45, color=\"darkred\")\n",
    "plt.show()"
   ]
  },
  {
   "cell_type": "code",
   "execution_count": null,
   "metadata": {
    "tags": []
   },
   "outputs": [],
   "source": [
    "# TODO Exercise 06: de la couche 'Pyplot' à 'Artist'\n",
    "\n",
    "\n",
    "\n",
    "\n",
    "\n",
    "\n",
    "\n",
    "\n",
    "\n",
    "\n",
    "\n",
    "# Affichage de la courbe:\n",
    "plt.show()"
   ]
  },
  {
   "cell_type": "markdown",
   "metadata": {},
   "source": [
    "  "
   ]
  },
  {
   "cell_type": "markdown",
   "metadata": {
    "tags": []
   },
   "source": [
    " ## Ressources utiles:  \n",
    "     \n",
    "L'histoire de Matplotlib\n",
    "- https://matplotlib.org/stable/users/project/history.html\n",
    "\n",
    "Les styles, le parametrage et les couleurs  \n",
    "- https://matplotlib.org/stable/gallery/style_sheets/style_sheets_reference.html\n",
    "- https://matplotlib.org/stable/tutorials/introductory/customizing.html\n",
    "- https://matplotlib.org/stable/gallery/color/named_colors.html\n",
    "    \n",
    "La difference entre pyplot and axes\n",
    "- https://stackoverflow.com/questions/37970424/what-is-the-difference-between-drawing-plots-using-plot-axes-or-figure-in-matpl\n",
    "    \n",
    "The Artist interface\n",
    "- https://dev.to/skotaro/artist-in-matplotlib---something-i-wanted-to-know-before-spending-tremendous-hours-on-googling-how-tos--31oo\n",
    "- https://medium.com/@codingpilot25/architecture-of-matplotlib-1a2d44370f5a\n",
    "\n",
    "Exemple d'une entreprise qui fait de la DataViz son coeur métier\n",
    "- https://www.darkhorseanalytics.com/portfolio-all\n",
    "- http://babynames.dha.io/ _(il est possible que ce site ne soit plus répertorié au moment de votre visite 😢)_\n"
   ]
  },
  {
   "cell_type": "markdown",
   "metadata": {},
   "source": [
    "  "
   ]
  }
 ],
 "metadata": {
  "kernelspec": {
   "display_name": "Python 3 (ipykernel)",
   "language": "python",
   "name": "python3"
  },
  "language_info": {
   "codemirror_mode": {
    "name": "ipython",
    "version": 3
   },
   "file_extension": ".py",
   "mimetype": "text/x-python",
   "name": "python",
   "nbconvert_exporter": "python",
   "pygments_lexer": "ipython3",
   "version": "3.11.5"
  },
  "toc": {
   "base_numbering": 1,
   "nav_menu": {},
   "number_sections": true,
   "sideBar": true,
   "skip_h1_title": false,
   "title_cell": "Table of Contents",
   "title_sidebar": "Contents",
   "toc_cell": false,
   "toc_position": {
    "height": "calc(100% - 180px)",
    "left": "10px",
    "top": "150px",
    "width": "338px"
   },
   "toc_section_display": true,
   "toc_window_display": true
  }
 },
 "nbformat": 4,
 "nbformat_minor": 4
}
